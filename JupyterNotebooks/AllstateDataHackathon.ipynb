{
 "cells": [
  {
   "cell_type": "code",
   "execution_count": 1,
   "metadata": {
    "collapsed": true
   },
   "outputs": [],
   "source": [
    "import pandas as pd\n",
    "import numpy as np\n",
    "from collections import Counter"
   ]
  },
  {
   "cell_type": "code",
   "execution_count": 2,
   "metadata": {
    "collapsed": true
   },
   "outputs": [],
   "source": [
    "data_location = 'datasets'"
   ]
  },
  {
   "cell_type": "code",
   "execution_count": 3,
   "metadata": {
    "collapsed": true
   },
   "outputs": [],
   "source": [
    "# Read in the data set\n",
    "file_name = '\\competition_starter.csv'\n",
    "starter_data = pd.read_csv(data_location + file_name, header=0, index_col=0)"
   ]
  },
  {
   "cell_type": "code",
   "execution_count": 4,
   "metadata": {
    "collapsed": true
   },
   "outputs": [],
   "source": [
    "# First, read in the csv\n",
    "file_name_employment = '\\competition_employment.csv'\n",
    "employment_data = pd.read_csv(data_location + file_name_employment, header=0)"
   ]
  },
  {
   "cell_type": "code",
   "execution_count": 5,
   "metadata": {
    "collapsed": true
   },
   "outputs": [],
   "source": [
    "# Perform the merge\n",
    "common_key = 'soa'\n",
    "\n",
    "hack_data = starter_data.merge(employment_data, on=common_key, how='left')"
   ]
  },
  {
   "cell_type": "code",
   "execution_count": 6,
   "metadata": {
    "collapsed": true
   },
   "outputs": [],
   "source": [
    "# First, read in the csv\n",
    "file_name_waiting = '\\competition_waiting.csv'\n",
    "waiting_data = pd.read_csv(data_location + file_name_waiting)"
   ]
  },
  {
   "cell_type": "code",
   "execution_count": 7,
   "metadata": {
    "collapsed": true
   },
   "outputs": [],
   "source": [
    "waiting_data['gp_month'] = [int(i.split('-')[0]) for i in waiting_data['quarter_end']]\n",
    "waiting_data['gp_year'] = [int(i.split('-')[1]) for i in waiting_data['quarter_end']]"
   ]
  },
  {
   "cell_type": "code",
   "execution_count": 8,
   "metadata": {
    "collapsed": true
   },
   "outputs": [],
   "source": [
    "waiting_data = waiting_data.drop(['quarter_end'], 1)"
   ]
  },
  {
   "cell_type": "code",
   "execution_count": 9,
   "metadata": {
    "collapsed": true
   },
   "outputs": [],
   "source": [
    "# Perform the merge\n",
    "common_key = ['hsc_trust', 'gp_month', 'gp_year']\n",
    "\n",
    "hack_data = hack_data.merge(waiting_data, on=common_key, how='left')"
   ]
  },
  {
   "cell_type": "code",
   "execution_count": 10,
   "metadata": {},
   "outputs": [
    {
     "data": {
      "text/plain": [
       "(9293, 192)"
      ]
     },
     "execution_count": 10,
     "metadata": {},
     "output_type": "execute_result"
    }
   ],
   "source": [
    "y = hack_data[\"gp_cost_per_registered_patient\"].values\n",
    "hack_data = hack_data.drop(\"gp_cost_per_registered_patient\", axis = 1)\n",
    "hack_data.shape"
   ]
  },
  {
   "cell_type": "code",
   "execution_count": 11,
   "metadata": {},
   "outputs": [
    {
     "data": {
      "text/plain": [
       "gp_practice                       0\n",
       "gp_year                           0\n",
       "gp_month                          0\n",
       "quality                           0\n",
       "eastings                          0\n",
       "northings                         0\n",
       "country                           0\n",
       "nhs_ha                            0\n",
       "longitude                         0\n",
       "latitude                          0\n",
       "parliamentary_constituency        0\n",
       "european_electoral_region         0\n",
       "primary_care_trust                0\n",
       "incode                            0\n",
       "outcode                           0\n",
       "admin_district                    0\n",
       "admin_ward                        0\n",
       "ccg                               0\n",
       "nuts                              0\n",
       "multiple_dep_measure_rank      1101\n",
       "income_score                   1101\n",
       "income_rank                    1101\n",
       "empl_score_18-59_64_yrs        1101\n",
       "empl_rank_18-59_64_yrs         1101\n",
       "health_dep_disability_rank     1101\n",
       "education_skills_train_rank    1101\n",
       "proximity_to_services_rank     1101\n",
       "living_env_rank                1101\n",
       "crime_disorder_rank            1101\n",
       "income_dep_children_score      1101\n",
       "                               ... \n",
       "general_surgery                6344\n",
       "genito-urinary_medicine        6344\n",
       "geriatric_medicine             6344\n",
       "gynaecology                    6344\n",
       "haematology_clinical           6344\n",
       "joint_consultant_clinics       6344\n",
       "learning_disability            6344\n",
       "medical_oncology               6344\n",
       "nephrology                     6344\n",
       "neurology                      6344\n",
       "neurosurgery                   6344\n",
       "old_age_psychiatry             6344\n",
       "ophthalmology                  6344\n",
       "oral_surgery                   6344\n",
       "orthodontics                   6344\n",
       "paediatric_dentistry           6344\n",
       "paediatric_neurology           6344\n",
       "paediatric_surgery             6344\n",
       "paediatrics                    6344\n",
       "pain_management                6344\n",
       "palliative_medicine            6344\n",
       "plastic_surgery                6344\n",
       "radiology                      6344\n",
       "rehabilitation                 6344\n",
       "restorative_dentistry          6344\n",
       "rheumatology                   6344\n",
       "t_o_surgery                    6344\n",
       "thoracic_medicine              6344\n",
       "thoracic_surgery               6344\n",
       "urology                        6344\n",
       "Length: 192, dtype: int64"
      ]
     },
     "execution_count": 11,
     "metadata": {},
     "output_type": "execute_result"
    }
   ],
   "source": [
    "hack_data.isnull().sum()"
   ]
  },
  {
   "cell_type": "code",
   "execution_count": 12,
   "metadata": {},
   "outputs": [],
   "source": [
    "holdout = pd.read_csv(data_location + \"\\holdout.csv\", header=0, index_col=0)"
   ]
  },
  {
   "cell_type": "code",
   "execution_count": 13,
   "metadata": {},
   "outputs": [
    {
     "data": {
      "text/plain": [
       "['record_id',\n",
       " 'All_usual_residents',\n",
       " 'Very_good_health',\n",
       " 'Good_health',\n",
       " 'Fair_health',\n",
       " 'Bad_health',\n",
       " 'Very_bad_health',\n",
       " 'quarter_end']"
      ]
     },
     "execution_count": 13,
     "metadata": {},
     "output_type": "execute_result"
    }
   ],
   "source": [
    "#check to see if holdout set shares the same col names as the dataset, so not all are shared by the results\n",
    "shared_col_names = np.intersect1d(np.asarray(list(holdout)), np.asarray(list(hack_data)))\n",
    "holdout_list = list(holdout)\n",
    "for col_name in shared_col_names:\n",
    "    if col_name in holdout_list:\n",
    "        holdout_list.remove(col_name)\n",
    "holdout_list"
   ]
  },
  {
   "cell_type": "code",
   "execution_count": 14,
   "metadata": {},
   "outputs": [
    {
     "name": "stdout",
     "output_type": "stream",
     "text": [
      "179\n",
      "13\n"
     ]
    }
   ],
   "source": [
    "#Define numeric values and categorical values\n",
    "\n",
    "numerics = ['int16', 'int32', 'int64', 'float16', 'float32', 'float64']\n",
    "\n",
    "numeric_values = list(hack_data.select_dtypes(include=numerics))\n",
    "\n",
    "#Get numeric column variables that act as categorical values\n",
    "\n",
    "categoric_values = list(hack_data)\n",
    "for value in numeric_values:\n",
    "    categoric_values.remove(value)\n",
    "    \n",
    "        \n",
    "print(len(numeric_values))\n",
    "print(len(categoric_values))"
   ]
  },
  {
   "cell_type": "code",
   "execution_count": 15,
   "metadata": {},
   "outputs": [
    {
     "name": "stdout",
     "output_type": "stream",
     "text": [
      "179\n",
      "13\n"
     ]
    }
   ],
   "source": [
    "print(len(numeric_values))\n",
    "print(len(categoric_values))"
   ]
  },
  {
   "cell_type": "code",
   "execution_count": 16,
   "metadata": {},
   "outputs": [
    {
     "data": {
      "text/plain": [
       "gp_practice                                   0\n",
       "gp_year                                       0\n",
       "gp_month                                      0\n",
       "quality                                       0\n",
       "eastings                                      0\n",
       "northings                                     0\n",
       "longitude                                     0\n",
       "latitude                                      0\n",
       "multiple_dep_measure_rank                  1101\n",
       "income_score                               1101\n",
       "income_rank                                1101\n",
       "empl_score_18-59_64_yrs                    1101\n",
       "empl_rank_18-59_64_yrs                     1101\n",
       "health_dep_disability_rank                 1101\n",
       "education_skills_train_rank                1101\n",
       "proximity_to_services_rank                 1101\n",
       "living_env_rank                            1101\n",
       "crime_disorder_rank                        1101\n",
       "income_dep_children_score                  1101\n",
       "income_dep_children_rank                   1101\n",
       "income_dep_older_people_score              1101\n",
       "income_dep_older_people_rank               1101\n",
       "edu_skill_train_primary_sub_rank           1101\n",
       "edu_skill_train_post-primary_sub_rank      1101\n",
       "edu_skill_train_work_age_adult_sub_rank    1101\n",
       "living_env_housing_quality_sub_rank        1101\n",
       "living_env_housing_access_sub_rank         1101\n",
       "living_env_outdoor_phys_env_sub_rank       1101\n",
       "crime_disorder_crime_sub_rank              1101\n",
       "crime_disorder_disorder_sub_rank           1101\n",
       "                                           ... \n",
       "general_surgery                            6344\n",
       "genito-urinary_medicine                    6344\n",
       "geriatric_medicine                         6344\n",
       "gynaecology                                6344\n",
       "haematology_clinical                       6344\n",
       "joint_consultant_clinics                   6344\n",
       "learning_disability                        6344\n",
       "medical_oncology                           6344\n",
       "nephrology                                 6344\n",
       "neurology                                  6344\n",
       "neurosurgery                               6344\n",
       "old_age_psychiatry                         6344\n",
       "ophthalmology                              6344\n",
       "oral_surgery                               6344\n",
       "orthodontics                               6344\n",
       "paediatric_dentistry                       6344\n",
       "paediatric_neurology                       6344\n",
       "paediatric_surgery                         6344\n",
       "paediatrics                                6344\n",
       "pain_management                            6344\n",
       "palliative_medicine                        6344\n",
       "plastic_surgery                            6344\n",
       "radiology                                  6344\n",
       "rehabilitation                             6344\n",
       "restorative_dentistry                      6344\n",
       "rheumatology                               6344\n",
       "t_o_surgery                                6344\n",
       "thoracic_medicine                          6344\n",
       "thoracic_surgery                           6344\n",
       "urology                                    6344\n",
       "Length: 179, dtype: int64"
      ]
     },
     "execution_count": 16,
     "metadata": {},
     "output_type": "execute_result"
    }
   ],
   "source": [
    "hack_data[numeric_values].isnull().sum()"
   ]
  },
  {
   "cell_type": "code",
   "execution_count": 17,
   "metadata": {},
   "outputs": [
    {
     "data": {
      "text/plain": [
       "array([ '0         Island 2\\n1         Island 2\\n2         Island 2\\n3         Island 2\\n4         Island 2\\n5         Island 2\\n6         Island 2\\n7         Island 2\\n8         Island 2\\n9         Island 2\\n10        Island 2\\n11        Island 2\\n12        Island 2\\n13        Island 2\\n14        Island 2\\n15        Island 2\\n16        Island 2\\n17        Island 2\\n18        Island 2\\n19        Island 2\\n20        Island 2\\n21        Island 2\\n22        Island 2\\n23        Island 2\\n24        Island 2\\n25        Island 2\\n26        Island 2\\n27        Island 2\\n28        Island 2\\n29        Island 2\\n           ...    \\n9263    Plumbridge\\n9264    Plumbridge\\n9265    Plumbridge\\n9266    Plumbridge\\n9267    Plumbridge\\n9268    Plumbridge\\n9269    Plumbridge\\n9270    Plumbridge\\n9271    Plumbridge\\n9272    Plumbridge\\n9273    Plumbridge\\n9274    Plumbridge\\n9275    Plumbridge\\n9276    Plumbridge\\n9277    Plumbridge\\n9278    Plumbridge\\n9279    Plumbridge\\n9280    Plumbridge\\n9281    Plumbridge\\n9282    Plumbridge\\n9283    Plumbridge\\n9284    Plumbridge\\n9285    Plumbridge\\n9286    Plumbridge\\n9287    Plumbridge\\n9288    Plumbridge\\n9289    Plumbridge\\n9290    Plumbridge\\n9291    Plumbridge\\n9292    Plumbridge\\nName: soa, Length: 9293, dtype: object'],\n",
       "      dtype='<U1197')"
      ]
     },
     "execution_count": 17,
     "metadata": {},
     "output_type": "execute_result"
    }
   ],
   "source": [
    "#Check what values are in soa categorical column\n",
    "np.unique(str(hack_data['soa']))"
   ]
  },
  {
   "cell_type": "code",
   "execution_count": 18,
   "metadata": {},
   "outputs": [
    {
     "data": {
      "text/plain": [
       "410    NaN\n",
       "411    NaN\n",
       "412    NaN\n",
       "413    NaN\n",
       "414    NaN\n",
       "Name: soa, dtype: object"
      ]
     },
     "execution_count": 18,
     "metadata": {},
     "output_type": "execute_result"
    }
   ],
   "source": [
    "#As we can see we have to replace Nan\n",
    "hack_data['soa'][hack_data['soa'].isnull()].head()"
   ]
  },
  {
   "cell_type": "code",
   "execution_count": 19,
   "metadata": {
    "collapsed": true
   },
   "outputs": [],
   "source": [
    "#Build Feature Pipeline which performs several functions,\n",
    "#\n",
    "#   -Selects the approapriate dataframe according to whether its categorical or numeric\n",
    "#\n",
    "#   -Tries to fill missing numeric data using the median\n",
    "#\n",
    "#   -One Hot Encodes the categorical value for each categorical column\n",
    "#\n",
    "#   -Standard Scales the numerical data\n",
    "#\n",
    "\n",
    "from sklearn.preprocessing import StandardScaler, Imputer\n",
    "from utils.DataFrameSelector import DataFrameSelector\n",
    "\n",
    "hack_data['soa'].replace(np.nan, 'unknown')\n",
    "\n",
    "imputer = Imputer(strategy = 'median')"
   ]
  },
  {
   "cell_type": "code",
   "execution_count": 20,
   "metadata": {},
   "outputs": [],
   "source": [
    "#Only numeric pipe here and concatenate on categoric columns\n",
    "imputed_hack = imputer.fit_transform(hack_data[numeric_values])\n",
    "processed_hack = np.concatenate((imputed_hack, hack_data[categoric_values].values), axis = 1)"
   ]
  },
  {
   "cell_type": "code",
   "execution_count": 21,
   "metadata": {},
   "outputs": [
    {
     "data": {
      "text/html": [
       "<div>\n",
       "<style>\n",
       "    .dataframe thead tr:only-child th {\n",
       "        text-align: right;\n",
       "    }\n",
       "\n",
       "    .dataframe thead th {\n",
       "        text-align: left;\n",
       "    }\n",
       "\n",
       "    .dataframe tbody tr th {\n",
       "        vertical-align: top;\n",
       "    }\n",
       "</style>\n",
       "<table border=\"1\" class=\"dataframe\">\n",
       "  <thead>\n",
       "    <tr style=\"text-align: right;\">\n",
       "      <th></th>\n",
       "      <th>gp_practice</th>\n",
       "      <th>gp_year</th>\n",
       "      <th>gp_month</th>\n",
       "      <th>quality</th>\n",
       "      <th>eastings</th>\n",
       "      <th>northings</th>\n",
       "      <th>country</th>\n",
       "      <th>nhs_ha</th>\n",
       "      <th>longitude</th>\n",
       "      <th>latitude</th>\n",
       "      <th>...</th>\n",
       "      <th>palliative_medicine</th>\n",
       "      <th>plastic_surgery</th>\n",
       "      <th>radiology</th>\n",
       "      <th>rehabilitation</th>\n",
       "      <th>restorative_dentistry</th>\n",
       "      <th>rheumatology</th>\n",
       "      <th>t_o_surgery</th>\n",
       "      <th>thoracic_medicine</th>\n",
       "      <th>thoracic_surgery</th>\n",
       "      <th>urology</th>\n",
       "    </tr>\n",
       "  </thead>\n",
       "  <tbody>\n",
       "    <tr>\n",
       "      <th>count</th>\n",
       "      <td>9293.0</td>\n",
       "      <td>9293.0</td>\n",
       "      <td>9293.0</td>\n",
       "      <td>9293.0</td>\n",
       "      <td>9293.0</td>\n",
       "      <td>9293.0</td>\n",
       "      <td>9293.000000</td>\n",
       "      <td>9293.000000</td>\n",
       "      <td>9293.0</td>\n",
       "      <td>9293.00</td>\n",
       "      <td>...</td>\n",
       "      <td>9293</td>\n",
       "      <td>9293</td>\n",
       "      <td>9293</td>\n",
       "      <td>9293</td>\n",
       "      <td>9293</td>\n",
       "      <td>9293</td>\n",
       "      <td>9293</td>\n",
       "      <td>9293</td>\n",
       "      <td>8192</td>\n",
       "      <td>9293</td>\n",
       "    </tr>\n",
       "    <tr>\n",
       "      <th>unique</th>\n",
       "      <td>227.0</td>\n",
       "      <td>4.0</td>\n",
       "      <td>12.0</td>\n",
       "      <td>2.0</td>\n",
       "      <td>179.0</td>\n",
       "      <td>179.0</td>\n",
       "      <td>179.000000</td>\n",
       "      <td>179.000000</td>\n",
       "      <td>141.0</td>\n",
       "      <td>48.00</td>\n",
       "      <td>...</td>\n",
       "      <td>1</td>\n",
       "      <td>5</td>\n",
       "      <td>173</td>\n",
       "      <td>67</td>\n",
       "      <td>11</td>\n",
       "      <td>143</td>\n",
       "      <td>5</td>\n",
       "      <td>5</td>\n",
       "      <td>141</td>\n",
       "      <td>5</td>\n",
       "    </tr>\n",
       "    <tr>\n",
       "      <th>top</th>\n",
       "      <td>900870.0</td>\n",
       "      <td>2015.0</td>\n",
       "      <td>3.0</td>\n",
       "      <td>1.0</td>\n",
       "      <td>336515.0</td>\n",
       "      <td>353478.0</td>\n",
       "      <td>-6.042344</td>\n",
       "      <td>54.510298</td>\n",
       "      <td>348.0</td>\n",
       "      <td>0.27</td>\n",
       "      <td>...</td>\n",
       "      <td>Northern Ireland</td>\n",
       "      <td>Northern</td>\n",
       "      <td>3BU</td>\n",
       "      <td>BT48</td>\n",
       "      <td>Belfast</td>\n",
       "      <td>Castle</td>\n",
       "      <td>Northern</td>\n",
       "      <td>East of Northern Ireland</td>\n",
       "      <td>Island 2</td>\n",
       "      <td>Northern</td>\n",
       "    </tr>\n",
       "    <tr>\n",
       "      <th>freq</th>\n",
       "      <td>41.0</td>\n",
       "      <td>2724.0</td>\n",
       "      <td>907.0</td>\n",
       "      <td>9170.0</td>\n",
       "      <td>246.0</td>\n",
       "      <td>246.0</td>\n",
       "      <td>246.000000</td>\n",
       "      <td>246.000000</td>\n",
       "      <td>1142.0</td>\n",
       "      <td>1634.00</td>\n",
       "      <td>...</td>\n",
       "      <td>9293</td>\n",
       "      <td>2337</td>\n",
       "      <td>246</td>\n",
       "      <td>369</td>\n",
       "      <td>1845</td>\n",
       "      <td>246</td>\n",
       "      <td>2337</td>\n",
       "      <td>2460</td>\n",
       "      <td>246</td>\n",
       "      <td>2337</td>\n",
       "    </tr>\n",
       "  </tbody>\n",
       "</table>\n",
       "<p>4 rows × 192 columns</p>\n",
       "</div>"
      ],
      "text/plain": [
       "        gp_practice  gp_year  gp_month  quality  eastings  northings  \\\n",
       "count        9293.0   9293.0    9293.0   9293.0    9293.0     9293.0   \n",
       "unique        227.0      4.0      12.0      2.0     179.0      179.0   \n",
       "top        900870.0   2015.0       3.0      1.0  336515.0   353478.0   \n",
       "freq           41.0   2724.0     907.0   9170.0     246.0      246.0   \n",
       "\n",
       "            country       nhs_ha  longitude  latitude    ...     \\\n",
       "count   9293.000000  9293.000000     9293.0   9293.00    ...      \n",
       "unique   179.000000   179.000000      141.0     48.00    ...      \n",
       "top       -6.042344    54.510298      348.0      0.27    ...      \n",
       "freq     246.000000   246.000000     1142.0   1634.00    ...      \n",
       "\n",
       "        palliative_medicine  plastic_surgery  radiology  rehabilitation  \\\n",
       "count                  9293             9293       9293            9293   \n",
       "unique                    1                5        173              67   \n",
       "top        Northern Ireland         Northern        3BU            BT48   \n",
       "freq                   9293             2337        246             369   \n",
       "\n",
       "        restorative_dentistry  rheumatology  t_o_surgery  \\\n",
       "count                    9293          9293         9293   \n",
       "unique                     11           143            5   \n",
       "top                   Belfast        Castle     Northern   \n",
       "freq                     1845           246         2337   \n",
       "\n",
       "               thoracic_medicine  thoracic_surgery   urology  \n",
       "count                       9293              8192      9293  \n",
       "unique                         5               141         5  \n",
       "top     East of Northern Ireland          Island 2  Northern  \n",
       "freq                        2460               246      2337  \n",
       "\n",
       "[4 rows x 192 columns]"
      ]
     },
     "execution_count": 21,
     "metadata": {},
     "output_type": "execute_result"
    }
   ],
   "source": [
    "pd.DataFrame(processed_hack, columns = list(hack_data)).describe()"
   ]
  },
  {
   "cell_type": "code",
   "execution_count": 22,
   "metadata": {
    "collapsed": true
   },
   "outputs": [],
   "source": [
    "processed_hack_df = pd.DataFrame(processed_hack, columns = list(hack_data))\n",
    "processed_hack_df[\"gp_cost_per_registered_patient\"] = y"
   ]
  },
  {
   "cell_type": "code",
   "execution_count": 23,
   "metadata": {
    "collapsed": true
   },
   "outputs": [],
   "source": [
    "thoracic_surgery_list = processed_hack_df['thoracic_surgery'].values"
   ]
  },
  {
   "cell_type": "code",
   "execution_count": 24,
   "metadata": {
    "collapsed": true
   },
   "outputs": [],
   "source": [
    "for i, surgery in enumerate(thoracic_surgery_list):\n",
    "    if surgery is np.nan:\n",
    "        thoracic_surgery_list[i] = 'Unknown'"
   ]
  },
  {
   "cell_type": "code",
   "execution_count": 25,
   "metadata": {
    "scrolled": true
   },
   "outputs": [
    {
     "data": {
      "text/plain": [
       "0"
      ]
     },
     "execution_count": 25,
     "metadata": {},
     "output_type": "execute_result"
    }
   ],
   "source": [
    "processed_hack_df.isnull().sum().sum()"
   ]
  },
  {
   "cell_type": "code",
   "execution_count": 26,
   "metadata": {},
   "outputs": [
    {
     "data": {
      "text/html": [
       "<div>\n",
       "<style>\n",
       "    .dataframe thead tr:only-child th {\n",
       "        text-align: right;\n",
       "    }\n",
       "\n",
       "    .dataframe thead th {\n",
       "        text-align: left;\n",
       "    }\n",
       "\n",
       "    .dataframe tbody tr th {\n",
       "        vertical-align: top;\n",
       "    }\n",
       "</style>\n",
       "<table border=\"1\" class=\"dataframe\">\n",
       "  <thead>\n",
       "    <tr style=\"text-align: right;\">\n",
       "      <th></th>\n",
       "      <th>gp_practice</th>\n",
       "      <th>gp_year</th>\n",
       "      <th>gp_month</th>\n",
       "      <th>quality</th>\n",
       "      <th>eastings</th>\n",
       "      <th>northings</th>\n",
       "      <th>country</th>\n",
       "      <th>nhs_ha</th>\n",
       "      <th>longitude</th>\n",
       "      <th>latitude</th>\n",
       "      <th>...</th>\n",
       "      <th>plastic_surgery</th>\n",
       "      <th>radiology</th>\n",
       "      <th>rehabilitation</th>\n",
       "      <th>restorative_dentistry</th>\n",
       "      <th>rheumatology</th>\n",
       "      <th>t_o_surgery</th>\n",
       "      <th>thoracic_medicine</th>\n",
       "      <th>thoracic_surgery</th>\n",
       "      <th>urology</th>\n",
       "      <th>gp_cost_per_registered_patient</th>\n",
       "    </tr>\n",
       "  </thead>\n",
       "  <tbody>\n",
       "    <tr>\n",
       "      <th>0</th>\n",
       "      <td>900207</td>\n",
       "      <td>2014</td>\n",
       "      <td>1</td>\n",
       "      <td>1</td>\n",
       "      <td>336515</td>\n",
       "      <td>374326</td>\n",
       "      <td>-5.88846</td>\n",
       "      <td>54.5987</td>\n",
       "      <td>274</td>\n",
       "      <td>0.3</td>\n",
       "      <td>...</td>\n",
       "      <td>Belfast</td>\n",
       "      <td>1NS</td>\n",
       "      <td>BT4</td>\n",
       "      <td>Belfast</td>\n",
       "      <td>Connswater</td>\n",
       "      <td>Belfast</td>\n",
       "      <td>Belfast</td>\n",
       "      <td>Island 2</td>\n",
       "      <td>Belfast</td>\n",
       "      <td>15.290104</td>\n",
       "    </tr>\n",
       "    <tr>\n",
       "      <th>1</th>\n",
       "      <td>900207</td>\n",
       "      <td>2014</td>\n",
       "      <td>2</td>\n",
       "      <td>1</td>\n",
       "      <td>336515</td>\n",
       "      <td>374326</td>\n",
       "      <td>-5.88846</td>\n",
       "      <td>54.5987</td>\n",
       "      <td>274</td>\n",
       "      <td>0.3</td>\n",
       "      <td>...</td>\n",
       "      <td>Belfast</td>\n",
       "      <td>1NS</td>\n",
       "      <td>BT4</td>\n",
       "      <td>Belfast</td>\n",
       "      <td>Connswater</td>\n",
       "      <td>Belfast</td>\n",
       "      <td>Belfast</td>\n",
       "      <td>Island 2</td>\n",
       "      <td>Belfast</td>\n",
       "      <td>11.646997</td>\n",
       "    </tr>\n",
       "    <tr>\n",
       "      <th>2</th>\n",
       "      <td>900207</td>\n",
       "      <td>2014</td>\n",
       "      <td>3</td>\n",
       "      <td>1</td>\n",
       "      <td>336515</td>\n",
       "      <td>374326</td>\n",
       "      <td>-5.88846</td>\n",
       "      <td>54.5987</td>\n",
       "      <td>274</td>\n",
       "      <td>0.3</td>\n",
       "      <td>...</td>\n",
       "      <td>Belfast</td>\n",
       "      <td>1NS</td>\n",
       "      <td>BT4</td>\n",
       "      <td>Belfast</td>\n",
       "      <td>Connswater</td>\n",
       "      <td>Belfast</td>\n",
       "      <td>Belfast</td>\n",
       "      <td>Island 2</td>\n",
       "      <td>Belfast</td>\n",
       "      <td>13.544038</td>\n",
       "    </tr>\n",
       "    <tr>\n",
       "      <th>3</th>\n",
       "      <td>900207</td>\n",
       "      <td>2014</td>\n",
       "      <td>4</td>\n",
       "      <td>1</td>\n",
       "      <td>336515</td>\n",
       "      <td>374326</td>\n",
       "      <td>-5.88846</td>\n",
       "      <td>54.5987</td>\n",
       "      <td>274</td>\n",
       "      <td>0.3</td>\n",
       "      <td>...</td>\n",
       "      <td>Belfast</td>\n",
       "      <td>1NS</td>\n",
       "      <td>BT4</td>\n",
       "      <td>Belfast</td>\n",
       "      <td>Connswater</td>\n",
       "      <td>Belfast</td>\n",
       "      <td>Belfast</td>\n",
       "      <td>Island 2</td>\n",
       "      <td>Belfast</td>\n",
       "      <td>13.724001</td>\n",
       "    </tr>\n",
       "    <tr>\n",
       "      <th>4</th>\n",
       "      <td>900207</td>\n",
       "      <td>2014</td>\n",
       "      <td>5</td>\n",
       "      <td>1</td>\n",
       "      <td>336515</td>\n",
       "      <td>374326</td>\n",
       "      <td>-5.88846</td>\n",
       "      <td>54.5987</td>\n",
       "      <td>274</td>\n",
       "      <td>0.3</td>\n",
       "      <td>...</td>\n",
       "      <td>Belfast</td>\n",
       "      <td>1NS</td>\n",
       "      <td>BT4</td>\n",
       "      <td>Belfast</td>\n",
       "      <td>Connswater</td>\n",
       "      <td>Belfast</td>\n",
       "      <td>Belfast</td>\n",
       "      <td>Island 2</td>\n",
       "      <td>Belfast</td>\n",
       "      <td>14.169956</td>\n",
       "    </tr>\n",
       "  </tbody>\n",
       "</table>\n",
       "<p>5 rows × 193 columns</p>\n",
       "</div>"
      ],
      "text/plain": [
       "  gp_practice gp_year gp_month quality eastings northings  country   nhs_ha  \\\n",
       "0      900207    2014        1       1   336515    374326 -5.88846  54.5987   \n",
       "1      900207    2014        2       1   336515    374326 -5.88846  54.5987   \n",
       "2      900207    2014        3       1   336515    374326 -5.88846  54.5987   \n",
       "3      900207    2014        4       1   336515    374326 -5.88846  54.5987   \n",
       "4      900207    2014        5       1   336515    374326 -5.88846  54.5987   \n",
       "\n",
       "  longitude latitude              ...               plastic_surgery radiology  \\\n",
       "0       274      0.3              ...                       Belfast       1NS   \n",
       "1       274      0.3              ...                       Belfast       1NS   \n",
       "2       274      0.3              ...                       Belfast       1NS   \n",
       "3       274      0.3              ...                       Belfast       1NS   \n",
       "4       274      0.3              ...                       Belfast       1NS   \n",
       "\n",
       "  rehabilitation restorative_dentistry rheumatology t_o_surgery  \\\n",
       "0            BT4               Belfast   Connswater     Belfast   \n",
       "1            BT4               Belfast   Connswater     Belfast   \n",
       "2            BT4               Belfast   Connswater     Belfast   \n",
       "3            BT4               Belfast   Connswater     Belfast   \n",
       "4            BT4               Belfast   Connswater     Belfast   \n",
       "\n",
       "  thoracic_medicine thoracic_surgery  urology gp_cost_per_registered_patient  \n",
       "0           Belfast         Island 2  Belfast                      15.290104  \n",
       "1           Belfast         Island 2  Belfast                      11.646997  \n",
       "2           Belfast         Island 2  Belfast                      13.544038  \n",
       "3           Belfast         Island 2  Belfast                      13.724001  \n",
       "4           Belfast         Island 2  Belfast                      14.169956  \n",
       "\n",
       "[5 rows x 193 columns]"
      ]
     },
     "execution_count": 26,
     "metadata": {},
     "output_type": "execute_result"
    }
   ],
   "source": [
    "processed_hack_df.head()"
   ]
  },
  {
   "cell_type": "code",
   "execution_count": 27,
   "metadata": {
    "collapsed": true
   },
   "outputs": [],
   "source": [
    "processed_hack_df['record_id'] = list(range(processed_hack_df.shape[0]))"
   ]
  },
  {
   "cell_type": "code",
   "execution_count": 28,
   "metadata": {},
   "outputs": [],
   "source": [
    "# linux_path = '/home/mark/Documents/Kaggle_Projects/Allstate-Data-Hack-2017/input/train.csv'\n",
    "# windows_path = 'C:/Users/srder/Documents/GitHub/ALlstate-Data-Hack-2017/input/datasets/train.csv'\n",
    "# processed_hack_df.to_csv(windows_path)"
   ]
  },
  {
   "cell_type": "code",
   "execution_count": 29,
   "metadata": {},
   "outputs": [],
   "source": [
    "file_name = '/holdout.csv'\n",
    "holdout_data = pd.read_csv(data_location + file_name, header=0, index_col=0)"
   ]
  },
  {
   "cell_type": "code",
   "execution_count": 30,
   "metadata": {},
   "outputs": [],
   "source": [
    "holdout_data = holdout_data.drop(holdout_list, axis = 1)\n",
    "holdout_data['soa'] = holdout_data['soa'].replace(np.nan, 'unknown')\n",
    "holdout_data['hsc_trust'] = holdout_data['hsc_trust'].replace(np.nan, 'unknown')"
   ]
  },
  {
   "cell_type": "code",
   "execution_count": 31,
   "metadata": {},
   "outputs": [],
   "source": [
    "numeric_values = list(holdout_data.select_dtypes(include=numerics))\n",
    "\n",
    "#Get numeric column variables that act as categorical values\n",
    "\n",
    "categoric_values = list(holdout_data)\n",
    "for value in numeric_values:\n",
    "    categoric_values.remove(value)\n",
    "    \n",
    "imputed_holdout_num = imputer.fit_transform(holdout_data[numeric_values])\n",
    "processed_holdout = np.concatenate((imputed_holdout_num, holdout_data[categoric_values].values), axis = 1)"
   ]
  },
  {
   "cell_type": "code",
   "execution_count": 32,
   "metadata": {},
   "outputs": [
    {
     "data": {
      "text/plain": [
       "0"
      ]
     },
     "execution_count": 32,
     "metadata": {},
     "output_type": "execute_result"
    }
   ],
   "source": [
    "\n",
    "pd.DataFrame(processed_holdout, columns = list(numeric_values + categoric_values)).isnull().sum().sum()"
   ]
  },
  {
   "cell_type": "code",
   "execution_count": null,
   "metadata": {
    "collapsed": true
   },
   "outputs": [],
   "source": []
  }
 ],
 "metadata": {
  "kernelspec": {
   "display_name": "Python 3",
   "language": "python",
   "name": "python3"
  },
  "language_info": {
   "codemirror_mode": {
    "name": "ipython",
    "version": 3
   },
   "file_extension": ".py",
   "mimetype": "text/x-python",
   "name": "python",
   "nbconvert_exporter": "python",
   "pygments_lexer": "ipython3",
   "version": "3.6.1"
  }
 },
 "nbformat": 4,
 "nbformat_minor": 2
}
