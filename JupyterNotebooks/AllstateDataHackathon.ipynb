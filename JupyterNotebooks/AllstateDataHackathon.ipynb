{
 "cells": [
  {
   "cell_type": "markdown",
   "metadata": {},
   "source": [
    "# Create Basic Training and Testing Data Sets"
   ]
  },
  {
   "cell_type": "code",
   "execution_count": 1,
   "metadata": {
    "collapsed": true
   },
   "outputs": [],
   "source": [
    "import pandas as pd\n",
    "import numpy as np"
   ]
  },
  {
   "cell_type": "code",
   "execution_count": 2,
   "metadata": {
    "collapsed": true
   },
   "outputs": [],
   "source": [
    "train = pd.read_csv('GP Prescribing - July 2017 (csv).csv', encoding = \"ISO-8859-1\")"
   ]
  },
  {
   "cell_type": "code",
   "execution_count": 3,
   "metadata": {
    "collapsed": true
   },
   "outputs": [],
   "source": [
    "test = pd.read_csv('GP Prescribing - August 2017 (csv).csv', encoding = \"ISO-8859-1\")"
   ]
  },
  {
   "cell_type": "code",
   "execution_count": 4,
   "metadata": {},
   "outputs": [
    {
     "data": {
      "text/plain": [
       "(474539, 19)"
      ]
     },
     "execution_count": 4,
     "metadata": {},
     "output_type": "execute_result"
    }
   ],
   "source": [
    "train.shape"
   ]
  },
  {
   "cell_type": "code",
   "execution_count": 5,
   "metadata": {},
   "outputs": [
    {
     "data": {
      "text/plain": [
       "(474571, 19)"
      ]
     },
     "execution_count": 5,
     "metadata": {},
     "output_type": "execute_result"
    }
   ],
   "source": [
    "test.shape"
   ]
  },
  {
   "cell_type": "code",
   "execution_count": 6,
   "metadata": {},
   "outputs": [
    {
     "data": {
      "text/plain": [
       "Index(['PRACTICE', 'Year', 'Month', 'VTM_NM', 'VMP_NM', 'AMP_NM',\n",
       "       'Presentation', 'Strength', 'Total Items', 'Total Quantity',\n",
       "       'Gross Cost (£)', 'Actual Cost (£)', 'BNF Code', 'BNF Chapter',\n",
       "       'BNF Section', 'BNF Paragraph', 'BNF Sub-Paragraph', 'Unnamed: 17',\n",
       "       'Unnamed: 18'],\n",
       "      dtype='object')"
      ]
     },
     "execution_count": 6,
     "metadata": {},
     "output_type": "execute_result"
    }
   ],
   "source": [
    "train.columns"
   ]
  },
  {
   "cell_type": "code",
   "execution_count": 7,
   "metadata": {},
   "outputs": [
    {
     "data": {
      "text/plain": [
       "[]"
      ]
     },
     "execution_count": 7,
     "metadata": {},
     "output_type": "execute_result"
    }
   ],
   "source": [
    "# Check that there are not columns missing between the two. \n",
    "[i for i in train.columns if i not in test.columns]"
   ]
  },
  {
   "cell_type": "code",
   "execution_count": 8,
   "metadata": {
    "collapsed": true
   },
   "outputs": [],
   "source": [
    "train = train.drop(['Gross Cost (£)', 'Unnamed: 17','Unnamed: 18'], 1)"
   ]
  },
  {
   "cell_type": "code",
   "execution_count": 9,
   "metadata": {
    "collapsed": true
   },
   "outputs": [],
   "source": [
    "test = test.drop(['Actual Cost (£)', 'Gross Cost (£)', 'Unnamed: 17','Unnamed: 18'], 1)"
   ]
  },
  {
   "cell_type": "code",
   "execution_count": 10,
   "metadata": {},
   "outputs": [
    {
     "data": {
      "text/plain": [
       "(474539, 16)"
      ]
     },
     "execution_count": 10,
     "metadata": {},
     "output_type": "execute_result"
    }
   ],
   "source": [
    "train.shape"
   ]
  },
  {
   "cell_type": "code",
   "execution_count": 11,
   "metadata": {},
   "outputs": [
    {
     "data": {
      "text/plain": [
       "(474571, 15)"
      ]
     },
     "execution_count": 11,
     "metadata": {},
     "output_type": "execute_result"
    }
   ],
   "source": [
    "test.shape"
   ]
  },
  {
   "cell_type": "code",
   "execution_count": 12,
   "metadata": {
    "collapsed": true
   },
   "outputs": [],
   "source": [
    "train = train.dropna(axis=0)"
   ]
  },
  {
   "cell_type": "code",
   "execution_count": 13,
   "metadata": {
    "collapsed": true
   },
   "outputs": [],
   "source": [
    "test = test.dropna(axis=0)"
   ]
  },
  {
   "cell_type": "code",
   "execution_count": 14,
   "metadata": {
    "collapsed": true
   },
   "outputs": [],
   "source": [
    "#I changed the name to loss so thats it compatible with the other repo.\n",
    "train['loss'] = train['Actual Cost (£)']"
   ]
  },
  {
   "cell_type": "code",
   "execution_count": 15,
   "metadata": {
    "collapsed": true
   },
   "outputs": [],
   "source": [
    "train = train.drop('Actual Cost (£)', 1)"
   ]
  },
  {
   "cell_type": "code",
   "execution_count": 16,
   "metadata": {
    "collapsed": true
   },
   "outputs": [],
   "source": [
    "train_id = list(range(len(train)))"
   ]
  },
  {
   "cell_type": "code",
   "execution_count": 17,
   "metadata": {
    "collapsed": true
   },
   "outputs": [],
   "source": [
    "train['id'] = train_id"
   ]
  },
  {
   "cell_type": "code",
   "execution_count": 18,
   "metadata": {
    "collapsed": true
   },
   "outputs": [],
   "source": [
    "test['id'] = list(range(len(test)))"
   ]
  },
  {
   "cell_type": "code",
   "execution_count": 19,
   "metadata": {
    "collapsed": true
   },
   "outputs": [],
   "source": [
    "train.to_csv('/home/mark/Documents/Kaggle_Projects/Allstate-Data-Hack-2017/input/train.csv', index=False)"
   ]
  },
  {
   "cell_type": "code",
   "execution_count": 20,
   "metadata": {
    "collapsed": true
   },
   "outputs": [],
   "source": [
    "test.to_csv('/home/mark/Documents/Kaggle_Projects/Allstate-Data-Hack-2017/input/test.csv', index=False)"
   ]
  },
  {
   "cell_type": "code",
   "execution_count": 21,
   "metadata": {
    "collapsed": true
   },
   "outputs": [],
   "source": [
    "num_columns = train.describe().columns"
   ]
  },
  {
   "cell_type": "code",
   "execution_count": 22,
   "metadata": {},
   "outputs": [
    {
     "data": {
      "text/plain": [
       "Index(['PRACTICE', 'Year', 'Month', 'Total Items', 'Total Quantity',\n",
       "       'BNF Chapter', 'BNF Section', 'BNF Paragraph', 'BNF Sub-Paragraph',\n",
       "       'loss', 'id'],\n",
       "      dtype='object')"
      ]
     },
     "execution_count": 22,
     "metadata": {},
     "output_type": "execute_result"
    }
   ],
   "source": [
    "num_columns"
   ]
  },
  {
   "cell_type": "code",
   "execution_count": 23,
   "metadata": {
    "collapsed": true
   },
   "outputs": [],
   "source": [
    "cat_columns = [col for col in test.columns if col not in num_columns]"
   ]
  },
  {
   "cell_type": "code",
   "execution_count": 24,
   "metadata": {},
   "outputs": [
    {
     "data": {
      "text/plain": [
       "['VTM_NM', 'VMP_NM', 'AMP_NM', 'Presentation', 'Strength', 'BNF Code']"
      ]
     },
     "execution_count": 24,
     "metadata": {},
     "output_type": "execute_result"
    }
   ],
   "source": [
    "cat_columns"
   ]
  },
  {
   "cell_type": "markdown",
   "metadata": {},
   "source": [
    "# Basic EDA"
   ]
  },
  {
   "cell_type": "code",
   "execution_count": 25,
   "metadata": {
    "collapsed": true
   },
   "outputs": [],
   "source": [
    "import matplotlib.pyplot as plt\n",
    "from sklearn.preprocessing import normalize\n",
    "from collections import Counter\n",
    "import scipy\n",
    "import seaborn as sns\n",
    "import math\n",
    "import re\n",
    "color = sns.color_palette()"
   ]
  },
  {
   "cell_type": "code",
   "execution_count": 26,
   "metadata": {},
   "outputs": [
    {
     "data": {
      "text/plain": [
       "PRACTICE            -0.002150\n",
       "Year                      NaN\n",
       "Month                     NaN\n",
       "Total Items          0.254202\n",
       "Total Quantity       0.197554\n",
       "BNF Chapter         -0.062665\n",
       "BNF Section          0.015666\n",
       "BNF Paragraph       -0.015755\n",
       "BNF Sub-Paragraph    0.009107\n",
       "loss                 1.000000\n",
       "id                  -0.002784\n",
       "Name: loss, dtype: float64"
      ]
     },
     "execution_count": 26,
     "metadata": {},
     "output_type": "execute_result"
    }
   ],
   "source": [
    "#Basic correlation with actual cost variable\n",
    "train.corr()['loss']"
   ]
  },
  {
   "cell_type": "code",
   "execution_count": 27,
   "metadata": {},
   "outputs": [
    {
     "data": {
      "image/png": "[encoded data removed]",
      "text/plain": [
       "<matplotlib.figure.Figure at 0x7f5e60a6c390>"
      ]
     },
     "metadata": {},
     "output_type": "display_data"
    }
   ],
   "source": [
    "plt.figure(figsize=(8,6))\n",
    "plt.scatter(range(train.shape[0]), np.sort(train.loss.values))\n",
    "plt.xlabel('index', fontsize=12)\n",
    "plt.ylabel('Actual Cost', fontsize=12)\n",
    "plt.show()"
   ]
  },
  {
   "cell_type": "code",
   "execution_count": 28,
   "metadata": {
    "scrolled": false
   },
   "outputs": [
    {
     "data": {
      "image/png": "[encoded data removed]",
      "text/plain": [
       "<matplotlib.figure.Figure at 0x7f5e5d438a90>"
      ]
     },
     "metadata": {},
     "output_type": "display_data"
    }
   ],
   "source": [
    "# ulimit = 2500\n",
    "# train['loss'].ix[train['loss']>ulimit] = ulimit\n",
    "\n",
    "plt.figure(figsize=(12,8))\n",
    "sns.distplot(train.loss.values, bins=50, kde=False)\n",
    "plt.xlabel('Actual Cost value', fontsize=12)\n",
    "plt.show()"
   ]
  },
  {
   "cell_type": "code",
   "execution_count": 29,
   "metadata": {
    "collapsed": true
   },
   "outputs": [],
   "source": [
    "# Clearly Not Normal. "
   ]
  },
  {
   "cell_type": "code",
   "execution_count": 30,
   "metadata": {
    "collapsed": true
   },
   "outputs": [],
   "source": [
    "train_log_cost = [math.log(i) for i in train.loss.values]"
   ]
  },
  {
   "cell_type": "code",
   "execution_count": 31,
   "metadata": {},
   "outputs": [
    {
     "data": {
      "image/png": "[encoded data removed]",
      "text/plain": [
       "<matplotlib.figure.Figure at 0x7f5e5d39b550>"
      ]
     },
     "metadata": {},
     "output_type": "display_data"
    }
   ],
   "source": [
    "plt.figure(figsize=(12,8))\n",
    "sns.distplot(train_log_cost, bins=50, kde=False)\n",
    "plt.xlabel('Log Actual Cost value', fontsize=12)\n",
    "plt.show()"
   ]
  },
  {
   "cell_type": "code",
   "execution_count": 32,
   "metadata": {
    "collapsed": true
   },
   "outputs": [],
   "source": [
    "#Alot better! Means a log transoformation is required beforehand. "
   ]
  },
  {
   "cell_type": "code",
   "execution_count": 33,
   "metadata": {
    "collapsed": true
   },
   "outputs": [],
   "source": [
    "train['Log Actual Cost'] = train_log_cost"
   ]
  },
  {
   "cell_type": "code",
   "execution_count": 34,
   "metadata": {},
   "outputs": [
    {
     "data": {
      "text/plain": [
       "PRACTICE            -0.002233\n",
       "Year                      NaN\n",
       "Month                     NaN\n",
       "Total Items          0.298288\n",
       "Total Quantity       0.239222\n",
       "BNF Chapter         -0.064104\n",
       "BNF Section          0.063909\n",
       "BNF Paragraph       -0.015750\n",
       "BNF Sub-Paragraph   -0.007948\n",
       "loss                 0.630550\n",
       "id                  -0.003816\n",
       "Log Actual Cost      1.000000\n",
       "Name: Log Actual Cost, dtype: float64"
      ]
     },
     "execution_count": 34,
     "metadata": {},
     "output_type": "execute_result"
    }
   ],
   "source": [
    "train.corr()['Log Actual Cost']"
   ]
  },
  {
   "cell_type": "code",
   "execution_count": 35,
   "metadata": {
    "collapsed": true
   },
   "outputs": [],
   "source": [
    "train_log_cost_norm = normalize(np.array(train_log_cost).reshape(1, -1))"
   ]
  },
  {
   "cell_type": "code",
   "execution_count": 36,
   "metadata": {
    "collapsed": true
   },
   "outputs": [],
   "source": [
    "train['Log Actual Cost Norm'] = np.array(train_log_cost).reshape(-1, 1)"
   ]
  },
  {
   "cell_type": "code",
   "execution_count": 37,
   "metadata": {},
   "outputs": [
    {
     "data": {
      "image/png": "[encoded data removed]",
      "text/plain": [
       "<matplotlib.figure.Figure at 0x7f5e5c87d5f8>"
      ]
     },
     "metadata": {},
     "output_type": "display_data"
    }
   ],
   "source": [
    "plt.figure(figsize=(12,8))\n",
    "sns.distplot(train_log_cost_norm, bins=50, kde=False)\n",
    "plt.xlabel('Log Actual Cost Norm value', fontsize=12)\n",
    "plt.show()"
   ]
  },
  {
   "cell_type": "code",
   "execution_count": 38,
   "metadata": {},
   "outputs": [
    {
     "data": {
      "text/plain": [
       "PRACTICE               -0.002233\n",
       "Year                         NaN\n",
       "Month                        NaN\n",
       "Total Items             0.298288\n",
       "Total Quantity          0.239222\n",
       "BNF Chapter            -0.064104\n",
       "BNF Section             0.063909\n",
       "BNF Paragraph          -0.015750\n",
       "BNF Sub-Paragraph      -0.007948\n",
       "loss                    0.630550\n",
       "id                     -0.003816\n",
       "Log Actual Cost         1.000000\n",
       "Log Actual Cost Norm    1.000000\n",
       "Name: Log Actual Cost Norm, dtype: float64"
      ]
     },
     "execution_count": 38,
     "metadata": {},
     "output_type": "execute_result"
    }
   ],
   "source": [
    "train.corr()['Log Actual Cost Norm']"
   ]
  },
  {
   "cell_type": "code",
   "execution_count": 52,
   "metadata": {
    "collapsed": true
   },
   "outputs": [],
   "source": [
    "def cat_lens(train, cat_columns):\n",
    "    for col in cat_columns:\n",
    "        train[col + ' Length'] = [len(i) for i in train[col]]"
   ]
  },
  {
   "cell_type": "code",
   "execution_count": 53,
   "metadata": {
    "collapsed": true
   },
   "outputs": [],
   "source": [
    "cat_lens(train, cat_columns)"
   ]
  },
  {
   "cell_type": "code",
   "execution_count": 54,
   "metadata": {
    "collapsed": true
   },
   "outputs": [],
   "source": [
    "cat_lens(test, cat_columns)"
   ]
  },
  {
   "cell_type": "code",
   "execution_count": 40,
   "metadata": {},
   "outputs": [
    {
     "data": {
      "text/plain": [
       "PRACTICE               -0.002233\n",
       "Year                         NaN\n",
       "Month                        NaN\n",
       "Total Items             0.298288\n",
       "Total Quantity          0.239222\n",
       "BNF Chapter            -0.064104\n",
       "BNF Section             0.063909\n",
       "BNF Paragraph          -0.015750\n",
       "BNF Sub-Paragraph      -0.007948\n",
       "loss                    0.630550\n",
       "id                     -0.003816\n",
       "Log Actual Cost         1.000000\n",
       "Log Actual Cost Norm    1.000000\n",
       "VTM_NM Length          -0.009830\n",
       "VMP_NM Length           0.132685\n",
       "AMP_NM Length           0.127833\n",
       "Presentation Length     0.171132\n",
       "Strength Length         0.158293\n",
       "BNF Code Length        -0.012739\n",
       "Name: Log Actual Cost, dtype: float64"
      ]
     },
     "execution_count": 40,
     "metadata": {},
     "output_type": "execute_result"
    }
   ],
   "source": [
    "train.corr()['Log Actual Cost']"
   ]
  },
  {
   "cell_type": "markdown",
   "metadata": {},
   "source": [
    "# Determine Unique Units"
   ]
  },
  {
   "cell_type": "code",
   "execution_count": 42,
   "metadata": {
    "collapsed": true
   },
   "outputs": [],
   "source": [
    "def unique_units(train):\n",
    "    Strength_per_units = [i.replace(' ', '') if '/' in i else None for i in train['Strength']]\n",
    "    Strength_per_units = [i.split('/') for i in Strength_per_units if i is not None]\n",
    "    \n",
    "    for i, unit_list in enumerate(Strength_per_units):\n",
    "        if len(unit_list) == 4:\n",
    "            new_units = []\n",
    "            new_units.append('/'.join(unit_list[:2]))\n",
    "            new_units.append('/'.join(unit_list[2:]))\n",
    "            Strength_per_units[i] = new_units\n",
    "        \n",
    "    Strength_per_units = [i for sublist in Strength_per_units for i in sublist]\n",
    "    Strength_per_units = [i.lstrip('0123456789.- ') for i in Strength_per_units]\n",
    "    \n",
    "    Strength_per_units_count = Counter(Strength_per_units).most_common()\n",
    "    \n",
    "    unique_units = [Strength_per_units_count[i][0] for i in range(20)]\n",
    "    \n",
    "    if '' in unique_units:\n",
    "        del unique_units[unique_units.index('')]\n",
    "    \n",
    "    unique_units = list(set([i.lower() for i in unique_units]))\n",
    "    \n",
    "    return unique_units"
   ]
  },
  {
   "cell_type": "code",
   "execution_count": 43,
   "metadata": {
    "collapsed": true
   },
   "outputs": [],
   "source": [
    "unique_units = unique_units(train)"
   ]
  },
  {
   "cell_type": "code",
   "execution_count": null,
   "metadata": {
    "collapsed": true
   },
   "outputs": [],
   "source": [
    "# Strength_per_units = [i.replace(' ', '') if '/' in i else None for i in train['Strength']]\n",
    "# Strength_per_units = [i.split('/') for i in Strength_per_units if i is not None]"
   ]
  },
  {
   "cell_type": "code",
   "execution_count": null,
   "metadata": {
    "collapsed": true
   },
   "outputs": [],
   "source": [
    "# for i, unit_list in enumerate(Strength_per_units):\n",
    "#     if len(unit_list) == 4:\n",
    "#         new_units = []\n",
    "#         new_units.append('/'.join(unit_list[:2]))\n",
    "#         new_units.append('/'.join(unit_list[2:]))\n",
    "#         Strength_per_units[i] = new_units"
   ]
  },
  {
   "cell_type": "code",
   "execution_count": null,
   "metadata": {
    "collapsed": true
   },
   "outputs": [],
   "source": [
    "# Strength_per_units = [i for sublist in Strength_per_units for i in sublist]"
   ]
  },
  {
   "cell_type": "code",
   "execution_count": null,
   "metadata": {
    "collapsed": true
   },
   "outputs": [],
   "source": [
    "# Strength_per_units = [i.lstrip('0123456789.- ') for i in Strength_per_units]"
   ]
  },
  {
   "cell_type": "code",
   "execution_count": null,
   "metadata": {
    "collapsed": true
   },
   "outputs": [],
   "source": [
    "# Strength_per_units_count = Counter(Strength_per_units).most_common()"
   ]
  },
  {
   "cell_type": "code",
   "execution_count": null,
   "metadata": {
    "collapsed": true
   },
   "outputs": [],
   "source": [
    "# unique_units = [Strength_per_units_count[i][0] for i in range(20)]"
   ]
  },
  {
   "cell_type": "code",
   "execution_count": null,
   "metadata": {
    "collapsed": true
   },
   "outputs": [],
   "source": [
    "# del unique_units[unique_units.index('')]"
   ]
  },
  {
   "cell_type": "code",
   "execution_count": null,
   "metadata": {
    "collapsed": true
   },
   "outputs": [],
   "source": [
    "# unique_units = list(set([i.lower() for i in unique_units]))"
   ]
  },
  {
   "cell_type": "code",
   "execution_count": null,
   "metadata": {
    "collapsed": true
   },
   "outputs": [],
   "source": [
    "# unique_units "
   ]
  },
  {
   "cell_type": "markdown",
   "metadata": {},
   "source": [
    "# Determine Measurements "
   ]
  },
  {
   "cell_type": "code",
   "execution_count": 49,
   "metadata": {
    "collapsed": true
   },
   "outputs": [],
   "source": [
    "def measurements_parser(unique_units, train_Strength, prefix_str = ''):\n",
    "    first_value_dict = {}\n",
    "    for unit in unique_units:\n",
    "        first_value_dict[prefix_str + unit] = []\n",
    "    first_value_dict[prefix_str + 'Unknown Units'] = []\n",
    "    for i, strength_list in enumerate(train_Strength):\n",
    "        strength = strength_list[0].lower()\n",
    "        if len(strength_list) > 2:\n",
    "            first_value_dict[prefix_str + 'Unknown Units'].append(1)\n",
    "            for unit in unique_units:\n",
    "                first_value_dict[prefix_str + unit].append(0)\n",
    "        else:\n",
    "            units_checker = [unit for unit in unique_units if unit in strength]\n",
    "            if len(units_checker) >= 1:\n",
    "                longest_unit_found = max(units_checker, key=len)\n",
    "                other_units = [unit for unit in unique_units if unit is not longest_unit_found]\n",
    "                search_for_mult = re.compile('[0-9]*x[0-9]*').search(strength)\n",
    "                if bool(search_for_mult) is True:\n",
    "                    if len(search_for_mult.group().split('x')) == 2:\n",
    "                        if any(num is '' for num in search_for_mult.group().split('x')):\n",
    "                            first_value_dict[prefix_str + longest_unit_found].append(0)\n",
    "                        else:\n",
    "                            first_value_dict[prefix_str + longest_unit_found].append(np.product([float(i) for i in search_for_mult.group().split('x')]))\n",
    "                    else:\n",
    "                        first_value_dict[prefix_str + longest_unit_found].append(0)\n",
    "                elif bool(re.compile('[A-Za-z,%,|-]').search(strength[:strength.index(longest_unit_found)])) is True:\n",
    "                    first_value_dict[prefix_str + longest_unit_found].append(0)\n",
    "                else:\n",
    "                    first_value_dict[prefix_str + longest_unit_found].append(strength[:strength.index(longest_unit_found)])\n",
    "                for unit in other_units:\n",
    "                    first_value_dict[prefix_str + unit].append(0)\n",
    "            else:\n",
    "                for unit in unique_units:\n",
    "                    first_value_dict[prefix_str + unit].append(0)\n",
    "            if all(unit not in strength for unit in unique_units):\n",
    "                first_value_dict[prefix_str + 'Unknown Units'].append(1)\n",
    "            else:\n",
    "                first_value_dict[prefix_str + 'Unknown Units'].append(0)\n",
    "    return first_value_dict"
   ]
  },
  {
   "cell_type": "code",
   "execution_count": 57,
   "metadata": {
    "collapsed": true
   },
   "outputs": [],
   "source": [
    "def determine_measurements(train, unique_units):\n",
    "    train_Strength = [i.replace(' ', '') for i in train['Strength']]\n",
    "    \n",
    "    train_Strength = [i.split('/') for i in train_Strength]\n",
    "    \n",
    "    for i, unit_list in enumerate(train_Strength):\n",
    "        if len(unit_list) == 4:\n",
    "            new_units = []\n",
    "            new_units.append('/'.join(unit_list[:2]))\n",
    "            new_units.append('/'.join(unit_list[2:]))\n",
    "            train_Strength[i] = new_units\n",
    "    \n",
    "    first_value_dict = measurements_parser(unique_units, train_Strength)\n",
    "    \n",
    "    second_value_dict = measurements_parser(unique_units, train_Strength, prefix_str = 'Per ')\n",
    "    \n",
    "    for key, value in first_value_dict.items():\n",
    "        train[key] = value\n",
    "        \n",
    "    for key, value in second_value_dict.items():\n",
    "        train[key] = value\n",
    "            \n",
    "    return train"
   ]
  },
  {
   "cell_type": "code",
   "execution_count": 58,
   "metadata": {
    "collapsed": true
   },
   "outputs": [],
   "source": [
    "train = determine_measurements(train, unique_units)"
   ]
  },
  {
   "cell_type": "code",
   "execution_count": 59,
   "metadata": {
    "collapsed": true
   },
   "outputs": [],
   "source": [
    "test = determine_measurements(test, unique_units)"
   ]
  },
  {
   "cell_type": "code",
   "execution_count": 61,
   "metadata": {
    "collapsed": true
   },
   "outputs": [],
   "source": [
    "train.to_csv('/home/mark/Documents/Kaggle_Projects/Allstate-Data-Hack-2017/input/train.csv', index=False)"
   ]
  },
  {
   "cell_type": "code",
   "execution_count": 62,
   "metadata": {
    "collapsed": true
   },
   "outputs": [],
   "source": [
    "test.to_csv('/home/mark/Documents/Kaggle_Projects/Allstate-Data-Hack-2017/input/test.csv', index=False)"
   ]
  },
  {
   "cell_type": "code",
   "execution_count": null,
   "metadata": {
    "collapsed": true
   },
   "outputs": [],
   "source": []
  },
  {
   "cell_type": "code",
   "execution_count": null,
   "metadata": {
    "collapsed": true
   },
   "outputs": [],
   "source": [
    "# train_Strength = [i.replace(' ', '') for i in train['Strength']]"
   ]
  },
  {
   "cell_type": "code",
   "execution_count": null,
   "metadata": {
    "collapsed": true
   },
   "outputs": [],
   "source": [
    "# train_Strength = [i.split('/') for i in train_Strength]"
   ]
  },
  {
   "cell_type": "code",
   "execution_count": null,
   "metadata": {
    "collapsed": true
   },
   "outputs": [],
   "source": [
    "# for i, unit_list in enumerate(train_Strength):\n",
    "#     if len(unit_list) == 4:\n",
    "#         new_units = []\n",
    "#         new_units.append('/'.join(unit_list[:2]))\n",
    "#         new_units.append('/'.join(unit_list[2:]))\n",
    "#         train_Strength[i] = new_units"
   ]
  },
  {
   "cell_type": "code",
   "execution_count": null,
   "metadata": {
    "collapsed": true
   },
   "outputs": [],
   "source": [
    "# first_value_dict = {}\n",
    "# for unit in unique_units:\n",
    "#     first_value_dict[unit] = []\n",
    "# first_value_dict['Unknown Units'] = []\n",
    "# for i, strength_list in enumerate(train_Strength):\n",
    "#     strength = strength_list[0].lower()\n",
    "#     if len(strength_list) > 2:\n",
    "#         first_value_dict['Unknown Units'].append(1)\n",
    "#         for unit in unique_units:\n",
    "#             first_value_dict[unit].append(0)\n",
    "#     else:\n",
    "#         units_checker = [unit for unit in unique_units if unit in strength]\n",
    "#         if len(units_checker) >= 1:\n",
    "#             longest_unit_found = max(units_checker, key=len)\n",
    "#             other_units = [unit for unit in unique_units if unit is not longest_unit_found]\n",
    "#             search_for_mult = re.compile('[0-9]*x[0-9]*').search(strength)\n",
    "#             if bool(search_for_mult) is True:\n",
    "#                 if len(search_for_mult.group().split('x')) == 2:\n",
    "#                     if any(num is '' for num in search_for_mult.group().split('x')):\n",
    "#                         first_value_dict[longest_unit_found].append(0)\n",
    "#                     else:\n",
    "#                         first_value_dict[longest_unit_found].append(np.product([float(i) for i in search_for_mult.group().split('x')]))\n",
    "#                 else:\n",
    "#                     first_value_dict[longest_unit_found].append(0)\n",
    "#             elif bool(re.compile('[A-Za-z,%,|-]').search(strength[:strength.index(longest_unit_found)])) is True:\n",
    "#                 first_value_dict[longest_unit_found].append(0)\n",
    "#             else:\n",
    "#                 first_value_dict[longest_unit_found].append(strength[:strength.index(longest_unit_found)])\n",
    "#             for unit in other_units:\n",
    "#                 first_value_dict[unit].append(0)\n",
    "#         else:\n",
    "#             for unit in unique_units:\n",
    "#                 first_value_dict[unit].append(0)\n",
    "#         if all(unit not in strength for unit in unique_units):\n",
    "#             first_value_dict['Unknown Units'].append(1)\n",
    "#         else:\n",
    "#             first_value_dict['Unknown Units'].append(0)"
   ]
  },
  {
   "cell_type": "code",
   "execution_count": null,
   "metadata": {
    "collapsed": true
   },
   "outputs": [],
   "source": [
    "# first_value_df = pd.DataFrame(first_value_dict).apply(pd.to_numeric)"
   ]
  },
  {
   "cell_type": "code",
   "execution_count": null,
   "metadata": {
    "collapsed": true
   },
   "outputs": [],
   "source": [
    "# second_value_dict = {}\n",
    "# for unit in unique_units:\n",
    "#     second_value_dict['Per ' + unit] = []\n",
    "# second_value_dict['Per Unknown Units'] = []\n",
    "# for i, strength_list in enumerate(train_Strength):\n",
    "#     if len(strength_list) == 2:\n",
    "#         strength = strength_list[1].lower()\n",
    "#         if len(strength_list) > 2:\n",
    "#             second_value_dict['Per Unknown Units'].append(1)\n",
    "#             for unit in unique_units:\n",
    "#                 second_value_dict['Per ' + unit].append(0)\n",
    "#         else:\n",
    "#             units_checker = [unit for unit in unique_units if unit in strength]\n",
    "#             if len(units_checker) >= 1:\n",
    "#                 longest_unit_found = max(units_checker, key=len)\n",
    "#                 other_units = [unit for unit in unique_units if unit is not longest_unit_found]\n",
    "#                 search_for_mult = re.compile('[0-9]*x[0-9]*').search(strength)\n",
    "#                 if bool(search_for_mult) is True:\n",
    "#                     if len(search_for_mult.group().split('x')) == 2:\n",
    "#                         if any(num is '' for num in search_for_mult.group().split('x')):\n",
    "#                             second_value_dict['Per ' + longest_unit_found].append(0)\n",
    "#                         else:\n",
    "#                             second_value_dict['Per ' + longest_unit_found].append(np.product([float(i) for i in search_for_mult.group().split('x')]))\n",
    "#                     else:\n",
    "#                         second_value_dict['Per ' + longest_unit_found].append(0)\n",
    "#                 elif bool(re.compile('[A-Za-z,%,|-]').search(strength[:strength.index(longest_unit_found)])) is True:\n",
    "#                     second_value_dict['Per ' + longest_unit_found].append(0)\n",
    "#                 else:\n",
    "#                     second_value_dict['Per ' + longest_unit_found].append(strength[:strength.index(longest_unit_found)])\n",
    "#                 for unit in other_units:\n",
    "#                     second_value_dict['Per ' + unit].append(0)\n",
    "#             else:\n",
    "#                 for unit in unique_units:\n",
    "#                     second_value_dict['Per ' + unit].append(0)\n",
    "#             if all(unit not in strength for unit in unique_units):\n",
    "#                 second_value_dict['Per Unknown Units'].append(1)\n",
    "#             else:\n",
    "#                 second_value_dict['Per Unknown Units'].append(0)\n",
    "#     else:\n",
    "#         second_value_dict['Per Unknown Units'].append(0)\n",
    "#         for unit in unique_units:\n",
    "#             second_value_dict['Per ' + unit].append(0)"
   ]
  },
  {
   "cell_type": "code",
   "execution_count": null,
   "metadata": {
    "collapsed": true
   },
   "outputs": [],
   "source": [
    "# second_value_df = pd.DataFrame(second_value_dict).apply(pd.to_numeric)"
   ]
  },
  {
   "cell_type": "code",
   "execution_count": null,
   "metadata": {
    "collapsed": true
   },
   "outputs": [],
   "source": [
    "# for key, value in first_value_dict.items():\n",
    "#     train[key] = value"
   ]
  },
  {
   "cell_type": "code",
   "execution_count": null,
   "metadata": {
    "collapsed": true
   },
   "outputs": [],
   "source": [
    "# for key, value in second_value_dict.items():\n",
    "#     train[key] = value"
   ]
  },
  {
   "cell_type": "code",
   "execution_count": null,
   "metadata": {
    "collapsed": true
   },
   "outputs": [],
   "source": [
    "# train = train.drop([k for k in train.columns if sum(train[k] == 0) == len(train)], 1) "
   ]
  },
  {
   "cell_type": "code",
   "execution_count": null,
   "metadata": {
    "collapsed": true
   },
   "outputs": [],
   "source": []
  },
  {
   "cell_type": "code",
   "execution_count": null,
   "metadata": {
    "collapsed": true
   },
   "outputs": [],
   "source": []
  },
  {
   "cell_type": "code",
   "execution_count": null,
   "metadata": {
    "collapsed": true
   },
   "outputs": [],
   "source": []
  },
  {
   "cell_type": "code",
   "execution_count": null,
   "metadata": {
    "collapsed": true
   },
   "outputs": [],
   "source": []
  },
  {
   "cell_type": "code",
   "execution_count": null,
   "metadata": {
    "collapsed": true
   },
   "outputs": [],
   "source": []
  },
  {
   "cell_type": "code",
   "execution_count": null,
   "metadata": {
    "collapsed": true
   },
   "outputs": [],
   "source": []
  },
  {
   "cell_type": "code",
   "execution_count": null,
   "metadata": {
    "collapsed": true
   },
   "outputs": [],
   "source": []
  },
  {
   "cell_type": "code",
   "execution_count": null,
   "metadata": {
    "collapsed": true
   },
   "outputs": [],
   "source": []
  },
  {
   "cell_type": "code",
   "execution_count": null,
   "metadata": {
    "collapsed": true
   },
   "outputs": [],
   "source": []
  },
  {
   "cell_type": "code",
   "execution_count": null,
   "metadata": {
    "collapsed": true
   },
   "outputs": [],
   "source": []
  },
  {
   "cell_type": "code",
   "execution_count": null,
   "metadata": {
    "collapsed": true
   },
   "outputs": [],
   "source": [
    "perc_list = [j for sublist in [i for i in train_Strength] for j in sublist]"
   ]
  },
  {
   "cell_type": "code",
   "execution_count": null,
   "metadata": {
    "collapsed": true
   },
   "outputs": [],
   "source": [
    "[i for i in perc_list if '%' in i]"
   ]
  },
  {
   "cell_type": "code",
   "execution_count": null,
   "metadata": {
    "collapsed": true
   },
   "outputs": [],
   "source": []
  },
  {
   "cell_type": "code",
   "execution_count": null,
   "metadata": {
    "collapsed": true
   },
   "outputs": [],
   "source": [
    "Counter([i.lstrip('0123456789.- ') for i in Strength_units]).most_common()"
   ]
  },
  {
   "cell_type": "code",
   "execution_count": null,
   "metadata": {
    "collapsed": true
   },
   "outputs": [],
   "source": [
    "unique_units"
   ]
  },
  {
   "cell_type": "code",
   "execution_count": null,
   "metadata": {
    "collapsed": true
   },
   "outputs": [],
   "source": [
    "example_strength = ['10mg']"
   ]
  },
  {
   "cell_type": "code",
   "execution_count": null,
   "metadata": {
    "collapsed": true
   },
   "outputs": [],
   "source": [
    "max([unit for unit in unique_units if unit in example_strength[0]], key=len)"
   ]
  },
  {
   "cell_type": "code",
   "execution_count": null,
   "metadata": {
    "collapsed": true
   },
   "outputs": [],
   "source": [
    "for example in example_list:\n",
    "    "
   ]
  },
  {
   "cell_type": "code",
   "execution_count": null,
   "metadata": {
    "collapsed": true
   },
   "outputs": [],
   "source": []
  },
  {
   "cell_type": "code",
   "execution_count": null,
   "metadata": {
    "collapsed": true
   },
   "outputs": [],
   "source": []
  },
  {
   "cell_type": "code",
   "execution_count": null,
   "metadata": {
    "collapsed": true
   },
   "outputs": [],
   "source": []
  },
  {
   "cell_type": "code",
   "execution_count": null,
   "metadata": {
    "collapsed": true
   },
   "outputs": [],
   "source": []
  },
  {
   "cell_type": "code",
   "execution_count": null,
   "metadata": {
    "collapsed": true
   },
   "outputs": [],
   "source": [
    "Strength_units = [re.compile(r\"[\\w']+\").findall(i) for i in train['Strength']]"
   ]
  },
  {
   "cell_type": "code",
   "execution_count": null,
   "metadata": {
    "collapsed": true
   },
   "outputs": [],
   "source": [
    "Strength_units = [[re.sub(\"\\d+\", \"\", i) for  i in Strength_units[j]] for j in range(len(Strength_units))]"
   ]
  },
  {
   "cell_type": "code",
   "execution_count": null,
   "metadata": {
    "collapsed": true
   },
   "outputs": [],
   "source": [
    "Strength_units = [i for sublist in Strength_units for i in sublist]"
   ]
  },
  {
   "cell_type": "code",
   "execution_count": null,
   "metadata": {
    "collapsed": true
   },
   "outputs": [],
   "source": [
    "Counter(Strength_units).most_common()"
   ]
  },
  {
   "cell_type": "code",
   "execution_count": null,
   "metadata": {
    "collapsed": true
   },
   "outputs": [],
   "source": [
    "[i if '/' not in i else None for i in train['Strength']]"
   ]
  },
  {
   "cell_type": "code",
   "execution_count": null,
   "metadata": {
    "collapsed": true
   },
   "outputs": [],
   "source": [
    "Counter(mg_Strength_list).most_common()"
   ]
  },
  {
   "cell_type": "code",
   "execution_count": null,
   "metadata": {
    "collapsed": true
   },
   "outputs": [],
   "source": []
  },
  {
   "cell_type": "code",
   "execution_count": null,
   "metadata": {
    "collapsed": true
   },
   "outputs": [],
   "source": []
  },
  {
   "cell_type": "code",
   "execution_count": null,
   "metadata": {
    "collapsed": true
   },
   "outputs": [],
   "source": []
  },
  {
   "cell_type": "code",
   "execution_count": null,
   "metadata": {
    "collapsed": true
   },
   "outputs": [],
   "source": []
  },
  {
   "cell_type": "code",
   "execution_count": null,
   "metadata": {
    "collapsed": true
   },
   "outputs": [],
   "source": [
    "mg_Strength_list = [i[:i.lower().index('mg')] if 'mg' in i.lower() else None for i in train['Strength']]"
   ]
  },
  {
   "cell_type": "code",
   "execution_count": null,
   "metadata": {
    "collapsed": true
   },
   "outputs": [],
   "source": [
    "mg_Strength_list = [i.split('/')[-1] if i is not None else '0' for i in mg_Strength_list]"
   ]
  },
  {
   "cell_type": "code",
   "execution_count": null,
   "metadata": {
    "collapsed": true
   },
   "outputs": [],
   "source": [
    "mg_Strength_list = [i.replace(' ', '') if i is not None else '0' for i in mg_Strength_list]"
   ]
  },
  {
   "cell_type": "code",
   "execution_count": null,
   "metadata": {
    "collapsed": true
   },
   "outputs": [],
   "source": [
    "mg_Strength_list = [float(i) for i in mg_Strength_list]"
   ]
  },
  {
   "cell_type": "code",
   "execution_count": null,
   "metadata": {
    "collapsed": true
   },
   "outputs": [],
   "source": [
    "train['mg_Strength_list'] = mg_Strength_list"
   ]
  },
  {
   "cell_type": "code",
   "execution_count": null,
   "metadata": {
    "collapsed": true
   },
   "outputs": [],
   "source": []
  },
  {
   "cell_type": "code",
   "execution_count": null,
   "metadata": {
    "collapsed": true
   },
   "outputs": [],
   "source": []
  },
  {
   "cell_type": "code",
   "execution_count": null,
   "metadata": {
    "collapsed": true
   },
   "outputs": [],
   "source": []
  },
  {
   "cell_type": "code",
   "execution_count": null,
   "metadata": {
    "collapsed": true
   },
   "outputs": [],
   "source": []
  },
  {
   "cell_type": "code",
   "execution_count": null,
   "metadata": {
    "collapsed": true
   },
   "outputs": [],
   "source": []
  },
  {
   "cell_type": "code",
   "execution_count": null,
   "metadata": {
    "collapsed": true
   },
   "outputs": [],
   "source": []
  },
  {
   "cell_type": "code",
   "execution_count": null,
   "metadata": {
    "collapsed": true
   },
   "outputs": [],
   "source": []
  },
  {
   "cell_type": "code",
   "execution_count": null,
   "metadata": {
    "collapsed": true
   },
   "outputs": [],
   "source": [
    "train_VTM = [j for sublist in [i.split(' + ') for i in train['VTM_NM']] for j in sublist]"
   ]
  },
  {
   "cell_type": "code",
   "execution_count": null,
   "metadata": {
    "collapsed": true
   },
   "outputs": [],
   "source": [
    "train_VTM_counter = Counter(train_VTM).most_common()"
   ]
  },
  {
   "cell_type": "code",
   "execution_count": null,
   "metadata": {
    "collapsed": true
   },
   "outputs": [],
   "source": [
    "train_VTM_counter_keys = [train_VTM_counter[i][0] for i in range(len(train_VTM_counter))]"
   ]
  },
  {
   "cell_type": "code",
   "execution_count": null,
   "metadata": {
    "collapsed": true
   },
   "outputs": [],
   "source": [
    "train_VTM_counter_keys"
   ]
  },
  {
   "cell_type": "code",
   "execution_count": null,
   "metadata": {
    "collapsed": true
   },
   "outputs": [],
   "source": [
    "len(train_VTM_counter_keys)"
   ]
  },
  {
   "cell_type": "code",
   "execution_count": null,
   "metadata": {
    "collapsed": true
   },
   "outputs": [],
   "source": [
    "rgx = re.compile('[A-Za-z]')\n",
    "train_VTM_counter_keys = [i for i in train_VTM_counter_keys if bool(rgx.search(i)) is True]"
   ]
  },
  {
   "cell_type": "code",
   "execution_count": null,
   "metadata": {
    "collapsed": true
   },
   "outputs": [],
   "source": [
    "VTM_key_list = []\n",
    "for vtm in train['VTM_NM']:\n",
    "    key_present = []\n",
    "    for key in train_VTM_counter_keys[:100]:\n",
    "        if key in vtm:\n",
    "            key_present.append(1)\n",
    "        else:\n",
    "            key_present.append(0)\n",
    "    VTM_key_list.append(key_present)"
   ]
  },
  {
   "cell_type": "code",
   "execution_count": null,
   "metadata": {
    "collapsed": true
   },
   "outputs": [],
   "source": [
    "pop_VTM_df = pd.DataFrame(VTM_key_list, columns=train_VTM_counter_keys[:100])"
   ]
  },
  {
   "cell_type": "code",
   "execution_count": null,
   "metadata": {
    "collapsed": true
   },
   "outputs": [],
   "source": [
    "pop_VTM_df.shape"
   ]
  },
  {
   "cell_type": "code",
   "execution_count": null,
   "metadata": {
    "collapsed": true
   },
   "outputs": [],
   "source": [
    "result = pd.concat([train, pop_VTM_df], axis=1)"
   ]
  },
  {
   "cell_type": "code",
   "execution_count": null,
   "metadata": {
    "collapsed": true
   },
   "outputs": [],
   "source": [
    "result"
   ]
  },
  {
   "cell_type": "code",
   "execution_count": null,
   "metadata": {
    "collapsed": true
   },
   "outputs": [],
   "source": [
    "result.describe()"
   ]
  },
  {
   "cell_type": "code",
   "execution_count": null,
   "metadata": {
    "collapsed": true
   },
   "outputs": [],
   "source": [
    "result.corr()['Log Actual Cost'].sort_values()"
   ]
  },
  {
   "cell_type": "code",
   "execution_count": null,
   "metadata": {
    "collapsed": true
   },
   "outputs": [],
   "source": []
  },
  {
   "cell_type": "code",
   "execution_count": null,
   "metadata": {
    "collapsed": true
   },
   "outputs": [],
   "source": [
    "train.head()"
   ]
  },
  {
   "cell_type": "code",
   "execution_count": null,
   "metadata": {
    "collapsed": true
   },
   "outputs": [],
   "source": [
    "Counter(train['VTM_NM']).most_common()"
   ]
  },
  {
   "cell_type": "code",
   "execution_count": null,
   "metadata": {
    "collapsed": true
   },
   "outputs": [],
   "source": [
    "sorted(train['VTM_NM'], key=len)[-1]"
   ]
  },
  {
   "cell_type": "code",
   "execution_count": null,
   "metadata": {
    "collapsed": true
   },
   "outputs": [],
   "source": [
    "VTM_NM_expanded = [i.split(' + ') for i in train['VTM_NM'].values]"
   ]
  },
  {
   "cell_type": "code",
   "execution_count": null,
   "metadata": {
    "collapsed": true
   },
   "outputs": [],
   "source": [
    "VTM_NM_expanded = [i for sublist in VTM_NM_expanded for i in sublist]"
   ]
  },
  {
   "cell_type": "code",
   "execution_count": null,
   "metadata": {
    "collapsed": true
   },
   "outputs": [],
   "source": [
    "VTM_NM_unique = list(set(VTM_NM_expanded))"
   ]
  },
  {
   "cell_type": "code",
   "execution_count": null,
   "metadata": {
    "collapsed": true
   },
   "outputs": [],
   "source": [
    "len(VTM_NM_unique)"
   ]
  },
  {
   "cell_type": "code",
   "execution_count": null,
   "metadata": {
    "collapsed": true
   },
   "outputs": [],
   "source": [
    "train['VMP_NM'].head(20)"
   ]
  },
  {
   "cell_type": "code",
   "execution_count": null,
   "metadata": {
    "collapsed": true
   },
   "outputs": [],
   "source": [
    "len(set(train['VMP_NM'].values))"
   ]
  },
  {
   "cell_type": "code",
   "execution_count": null,
   "metadata": {
    "collapsed": true
   },
   "outputs": [],
   "source": [
    "VPM_NM_expanded = [i.split(' ') for i in train['VMP_NM'].values]"
   ]
  },
  {
   "cell_type": "code",
   "execution_count": null,
   "metadata": {
    "collapsed": true
   },
   "outputs": [],
   "source": [
    "VPM_NM_expanded = [i for sublist in VPM_NM_expanded for i in sublist]"
   ]
  },
  {
   "cell_type": "code",
   "execution_count": null,
   "metadata": {
    "collapsed": true
   },
   "outputs": [],
   "source": [
    "VPM_NM_unique = list(set(VPM_NM_expanded))"
   ]
  },
  {
   "cell_type": "code",
   "execution_count": null,
   "metadata": {
    "collapsed": true
   },
   "outputs": [],
   "source": [
    "len(VPM_NM_expanded)"
   ]
  },
  {
   "cell_type": "code",
   "execution_count": null,
   "metadata": {
    "collapsed": true
   },
   "outputs": [],
   "source": [
    "VPM_NM_most_common_counter = Counter(VPM_NM_expanded).most_common()"
   ]
  },
  {
   "cell_type": "code",
   "execution_count": null,
   "metadata": {
    "collapsed": true
   },
   "outputs": [],
   "source": [
    "VPM_NM_most_common_words = [VPM_NM_most_common_counter[i][0] for i in range(len(VPM_NM_most_common_counter))]"
   ]
  },
  {
   "cell_type": "code",
   "execution_count": null,
   "metadata": {
    "collapsed": true
   },
   "outputs": [],
   "source": [
    "import re"
   ]
  },
  {
   "cell_type": "code",
   "execution_count": null,
   "metadata": {
    "collapsed": true
   },
   "outputs": [],
   "source": [
    "rgx = re.compile('[0-9]')\n",
    "VPM_NM_doses = [i for i in VPM_NM_most_common_words if bool(rgx.search(i)) is True]"
   ]
  },
  {
   "cell_type": "code",
   "execution_count": null,
   "metadata": {
    "collapsed": true
   },
   "outputs": [],
   "source": [
    "train['VMP_NM'][11]"
   ]
  },
  {
   "cell_type": "code",
   "execution_count": null,
   "metadata": {
    "collapsed": true
   },
   "outputs": [],
   "source": [
    "rgx = re.compile('[^0-9]')\n",
    "VPM_NM_doses_measements = [re.sub(r'[0-9]+', '', i) for i in VPM_NM_doses]"
   ]
  },
  {
   "cell_type": "code",
   "execution_count": null,
   "metadata": {
    "collapsed": true
   },
   "outputs": [],
   "source": [
    "Counter(VPM_NM_doses_measements).most_common()"
   ]
  },
  {
   "cell_type": "code",
   "execution_count": null,
   "metadata": {
    "collapsed": true
   },
   "outputs": [],
   "source": []
  },
  {
   "cell_type": "code",
   "execution_count": null,
   "metadata": {
    "collapsed": true
   },
   "outputs": [],
   "source": [
    "set_units = ['mg']\n",
    "mg_dose_list = []\n",
    "for vmp in train['VMP_NM']:\n",
    "    mg_amounts = []\n",
    "    for index in vmp.split('/'):\n",
    "        for unit in set_units:\n",
    "            if unit in index:\n",
    "                mg_amounts.append(float(index[:index.index(unit)].replace('(', '').split(' ')[-1]))\n",
    "            else:\n",
    "                mg_amounts.append(0.0)\n",
    "    mg_dose_list.append(mg_amounts)"
   ]
  },
  {
   "cell_type": "code",
   "execution_count": null,
   "metadata": {
    "collapsed": true
   },
   "outputs": [],
   "source": [
    "mg_dose_list = [i+(5-len(i))*[0.0] for i in mg_dose_list]"
   ]
  },
  {
   "cell_type": "code",
   "execution_count": null,
   "metadata": {
    "collapsed": true
   },
   "outputs": [],
   "source": [
    "len(Counter([len(i) for i in mg_dose_list]))"
   ]
  },
  {
   "cell_type": "code",
   "execution_count": null,
   "metadata": {
    "collapsed": true
   },
   "outputs": [],
   "source": [
    "for i in range(5):\n",
    "    train['VTM_NM_mg_' + str(i)] = [dose[i] for dose in mg_dose_list]"
   ]
  },
  {
   "cell_type": "code",
   "execution_count": null,
   "metadata": {
    "collapsed": true
   },
   "outputs": [],
   "source": [
    "Counter([len(i) for i in mg_dose_list])"
   ]
  },
  {
   "cell_type": "code",
   "execution_count": null,
   "metadata": {
    "collapsed": true
   },
   "outputs": [],
   "source": [
    "[len(i) for i in mg_dose_list].index(3)"
   ]
  },
  {
   "cell_type": "code",
   "execution_count": null,
   "metadata": {
    "collapsed": true
   },
   "outputs": [],
   "source": [
    "mg_dose_list[1350]"
   ]
  },
  {
   "cell_type": "code",
   "execution_count": null,
   "metadata": {
    "collapsed": true
   },
   "outputs": [],
   "source": [
    "VTM_NM_expanded = [i.split(' + ') for i in train['VTM_NM']]"
   ]
  },
  {
   "cell_type": "code",
   "execution_count": null,
   "metadata": {
    "collapsed": true
   },
   "outputs": [],
   "source": [
    "train['VTM_NM_split'] = [len(i) for i in VTM_NM_expanded]"
   ]
  },
  {
   "cell_type": "code",
   "execution_count": null,
   "metadata": {
    "collapsed": true
   },
   "outputs": [],
   "source": [
    "train.corr()['Log Actual Cost']"
   ]
  },
  {
   "cell_type": "code",
   "execution_count": null,
   "metadata": {
    "collapsed": true
   },
   "outputs": [],
   "source": []
  },
  {
   "cell_type": "code",
   "execution_count": null,
   "metadata": {
    "collapsed": true
   },
   "outputs": [],
   "source": []
  },
  {
   "cell_type": "code",
   "execution_count": null,
   "metadata": {
    "collapsed": true
   },
   "outputs": [],
   "source": []
  },
  {
   "cell_type": "code",
   "execution_count": null,
   "metadata": {
    "collapsed": true
   },
   "outputs": [],
   "source": [
    "VTM_NM_unique"
   ]
  },
  {
   "cell_type": "code",
   "execution_count": null,
   "metadata": {
    "collapsed": true
   },
   "outputs": [],
   "source": []
  },
  {
   "cell_type": "code",
   "execution_count": null,
   "metadata": {
    "collapsed": true
   },
   "outputs": [],
   "source": []
  },
  {
   "cell_type": "code",
   "execution_count": null,
   "metadata": {
    "collapsed": true
   },
   "outputs": [],
   "source": []
  },
  {
   "cell_type": "code",
   "execution_count": null,
   "metadata": {
    "collapsed": true
   },
   "outputs": [],
   "source": [
    "Counter(train['VMP_NM']).most_common()"
   ]
  },
  {
   "cell_type": "code",
   "execution_count": null,
   "metadata": {
    "collapsed": true
   },
   "outputs": [],
   "source": [
    "len(Counter(train['VMP_NM']))"
   ]
  }
 ],
 "metadata": {
  "kernelspec": {
   "display_name": "Python 3",
   "language": "python",
   "name": "python3"
  },
  "language_info": {
   "codemirror_mode": {
    "name": "ipython",
    "version": 3
   },
   "file_extension": ".py",
   "mimetype": "text/x-python",
   "name": "python",
   "nbconvert_exporter": "python",
   "pygments_lexer": "ipython3",
   "version": "3.5.4"
  }
 },
 "nbformat": 4,
 "nbformat_minor": 2
}
