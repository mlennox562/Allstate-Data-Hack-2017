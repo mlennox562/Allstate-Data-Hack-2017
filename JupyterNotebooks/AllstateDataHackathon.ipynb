{
 "cells": [
  {
   "cell_type": "code",
   "execution_count": 1,
   "metadata": {
    "collapsed": true
   },
   "outputs": [],
   "source": [
    "import pandas as pd\n",
    "import numpy as np\n",
    "from collections import Counter"
   ]
  },
  {
   "cell_type": "code",
   "execution_count": 2,
   "metadata": {
    "collapsed": true
   },
   "outputs": [],
   "source": [
    "data_location = ''"
   ]
  },
  {
   "cell_type": "code",
   "execution_count": 3,
   "metadata": {},
   "outputs": [],
   "source": [
    "# Read in the data set\n",
    "file_name = 'competition_starter.csv'\n",
    "starter_data = pd.read_csv(data_location + file_name, header=0, index_col=0)"
   ]
  },
  {
   "cell_type": "code",
   "execution_count": 4,
   "metadata": {},
   "outputs": [],
   "source": [
    "# First, read in the csv\n",
    "file_name_employment = 'competition_employment.csv'\n",
    "employment_data = pd.read_csv(data_location + file_name_employment, header=0)"
   ]
  },
  {
   "cell_type": "code",
   "execution_count": 5,
   "metadata": {
    "collapsed": true
   },
   "outputs": [],
   "source": [
    "# Perform the merge\n",
    "common_key = 'soa'\n",
    "\n",
    "hack_data = starter_data.merge(employment_data, on=common_key, how='left')"
   ]
  },
  {
   "cell_type": "code",
   "execution_count": 6,
   "metadata": {
    "collapsed": true
   },
   "outputs": [],
   "source": [
    "# First, read in the csv\n",
    "file_name_waiting = 'competition_waiting.csv'\n",
    "waiting_data = pd.read_csv(data_location + file_name_waiting)"
   ]
  },
  {
   "cell_type": "code",
   "execution_count": 7,
   "metadata": {},
   "outputs": [],
   "source": [
    "waiting_data['gp_month'] = [int(i.split('-')[0]) for i in waiting_data['quarter_end']]\n",
    "waiting_data['gp_year'] = [int(i.split('-')[1]) for i in waiting_data['quarter_end']]"
   ]
  },
  {
   "cell_type": "code",
   "execution_count": 8,
   "metadata": {},
   "outputs": [],
   "source": [
    "waiting_data = waiting_data.drop(['quarter_end'], 1)"
   ]
  },
  {
   "cell_type": "code",
   "execution_count": 9,
   "metadata": {},
   "outputs": [],
   "source": [
    "# Perform the merge\n",
    "common_key = ['hsc_trust', 'gp_month', 'gp_year']\n",
    "\n",
    "hack_data = hack_data.merge(waiting_data, on=common_key, how='left')"
   ]
  },
  {
   "cell_type": "code",
   "execution_count": 10,
   "metadata": {},
   "outputs": [
    {
     "data": {
      "text/plain": [
       "(9293, 193)"
      ]
     },
     "execution_count": 10,
     "metadata": {},
     "output_type": "execute_result"
    }
   ],
   "source": [
    "hack_data.shape"
   ]
  },
  {
   "cell_type": "code",
   "execution_count": 11,
   "metadata": {},
   "outputs": [
    {
     "data": {
      "text/plain": [
       "gp_practice                       0\n",
       "gp_year                           0\n",
       "gp_month                          0\n",
       "quality                           0\n",
       "eastings                          0\n",
       "northings                         0\n",
       "country                           0\n",
       "nhs_ha                            0\n",
       "longitude                         0\n",
       "latitude                          0\n",
       "parliamentary_constituency        0\n",
       "european_electoral_region         0\n",
       "primary_care_trust                0\n",
       "incode                            0\n",
       "outcode                           0\n",
       "admin_district                    0\n",
       "admin_ward                        0\n",
       "ccg                               0\n",
       "nuts                              0\n",
       "multiple_dep_measure_rank      1101\n",
       "income_score                   1101\n",
       "income_rank                    1101\n",
       "empl_score_18-59_64_yrs        1101\n",
       "empl_rank_18-59_64_yrs         1101\n",
       "health_dep_disability_rank     1101\n",
       "education_skills_train_rank    1101\n",
       "proximity_to_services_rank     1101\n",
       "living_env_rank                1101\n",
       "crime_disorder_rank            1101\n",
       "income_dep_children_score      1101\n",
       "                               ... \n",
       "general_surgery                6344\n",
       "genito-urinary_medicine        6344\n",
       "geriatric_medicine             6344\n",
       "gynaecology                    6344\n",
       "haematology_clinical           6344\n",
       "joint_consultant_clinics       6344\n",
       "learning_disability            6344\n",
       "medical_oncology               6344\n",
       "nephrology                     6344\n",
       "neurology                      6344\n",
       "neurosurgery                   6344\n",
       "old_age_psychiatry             6344\n",
       "ophthalmology                  6344\n",
       "oral_surgery                   6344\n",
       "orthodontics                   6344\n",
       "paediatric_dentistry           6344\n",
       "paediatric_neurology           6344\n",
       "paediatric_surgery             6344\n",
       "paediatrics                    6344\n",
       "pain_management                6344\n",
       "palliative_medicine            6344\n",
       "plastic_surgery                6344\n",
       "radiology                      6344\n",
       "rehabilitation                 6344\n",
       "restorative_dentistry          6344\n",
       "rheumatology                   6344\n",
       "t_o_surgery                    6344\n",
       "thoracic_medicine              6344\n",
       "thoracic_surgery               6344\n",
       "urology                        6344\n",
       "Length: 193, dtype: int64"
      ]
     },
     "execution_count": 11,
     "metadata": {},
     "output_type": "execute_result"
    }
   ],
   "source": [
    "hack_data.isnull().sum()"
   ]
  },
  {
   "cell_type": "code",
   "execution_count": null,
   "metadata": {
    "collapsed": true
   },
   "outputs": [],
   "source": [
    "#Needs fixed."
   ]
  }
 ],
 "metadata": {
  "kernelspec": {
   "display_name": "Python 3",
   "language": "python",
   "name": "python3"
  },
  "language_info": {
   "codemirror_mode": {
    "name": "ipython",
    "version": 3
   },
   "file_extension": ".py",
   "mimetype": "text/x-python",
   "name": "python",
   "nbconvert_exporter": "python",
   "pygments_lexer": "ipython3",
   "version": "3.5.4"
  }
 },
 "nbformat": 4,
 "nbformat_minor": 2
}
