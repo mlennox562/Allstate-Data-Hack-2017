{
 "cells": [
  {
   "cell_type": "code",
   "execution_count": 4,
   "metadata": {},
   "outputs": [
    {
     "name": "stdout",
     "output_type": "stream",
     "text": [
      "(9293, 118)\n",
      "(75, 47)\n",
      "(141, 32)\n"
     ]
    }
   ],
   "source": [
    "import numpy as np\n",
    "import pandas as pd \n",
    "\n",
    "#Load all csv files\n",
    "starter = pd.read_csv(\"datasets/competition_starter.csv\")\n",
    "waiting = pd.read_csv(\"datasets/competition_waiting.csv\")\n",
    "employment = pd.read_csv(\"datasets/competition_employment.csv\")\n",
    "\n",
    "print(starter.shape)\n",
    "print(waiting.shape)\n",
    "print(employment.shape)"
   ]
  },
  {
   "cell_type": "code",
   "execution_count": 5,
   "metadata": {},
   "outputs": [
    {
     "name": "stdout",
     "output_type": "stream",
     "text": [
      "<class 'pandas.core.frame.DataFrame'>\n",
      "RangeIndex: 9293 entries, 0 to 9292\n",
      "Columns: 118 entries, Unnamed: 0 to gp_cost_per_registered_patient\n",
      "dtypes: float64(98), int64(7), object(13)\n",
      "memory usage: 8.4+ MB\n",
      "None\n",
      "<class 'pandas.core.frame.DataFrame'>\n",
      "RangeIndex: 75 entries, 0 to 74\n",
      "Data columns (total 47 columns):\n",
      "hsc_trust                      75 non-null object\n",
      "quarter_end                    75 non-null object\n",
      "accident_emergency             75 non-null int64\n",
      "anaesthetics                   75 non-null int64\n",
      "audiological                   75 non-null int64\n",
      "cardiac_surgery                75 non-null int64\n",
      "cardiology                     75 non-null int64\n",
      "chemical_pathology             75 non-null int64\n",
      "clinical_genetics              75 non-null int64\n",
      "clinical_neuro-physiology      75 non-null int64\n",
      "clinical_oncology              75 non-null int64\n",
      "dental_medicine_specialties    75 non-null int64\n",
      "dermatology                    75 non-null int64\n",
      "ent                            75 non-null int64\n",
      "endocrinology                  75 non-null int64\n",
      "gastroenterology               75 non-null int64\n",
      "general_medicine               75 non-null int64\n",
      "general_surgery                75 non-null int64\n",
      "genito-urinary_medicine        75 non-null int64\n",
      "geriatric_medicine             75 non-null int64\n",
      "gynaecology                    75 non-null int64\n",
      "haematology_clinical           75 non-null int64\n",
      "joint_consultant_clinics       75 non-null int64\n",
      "learning_disability            75 non-null int64\n",
      "medical_oncology               75 non-null int64\n",
      "nephrology                     75 non-null int64\n",
      "neurology                      75 non-null int64\n",
      "neurosurgery                   75 non-null int64\n",
      "old_age_psychiatry             75 non-null int64\n",
      "ophthalmology                  75 non-null int64\n",
      "oral_surgery                   75 non-null int64\n",
      "orthodontics                   75 non-null int64\n",
      "paediatric_dentistry           75 non-null int64\n",
      "paediatric_neurology           75 non-null int64\n",
      "paediatric_surgery             75 non-null int64\n",
      "paediatrics                    75 non-null int64\n",
      "pain_management                75 non-null int64\n",
      "palliative_medicine            75 non-null int64\n",
      "plastic_surgery                75 non-null int64\n",
      "radiology                      75 non-null int64\n",
      "rehabilitation                 75 non-null int64\n",
      "restorative_dentistry          75 non-null int64\n",
      "rheumatology                   75 non-null int64\n",
      "t_o_surgery                    75 non-null int64\n",
      "thoracic_medicine              75 non-null int64\n",
      "thoracic_surgery               75 non-null int64\n",
      "urology                        75 non-null int64\n",
      "dtypes: int64(45), object(2)\n",
      "memory usage: 27.6+ KB\n",
      "None\n",
      "<class 'pandas.core.frame.DataFrame'>\n",
      "RangeIndex: 141 entries, 0 to 140\n",
      "Data columns (total 32 columns):\n",
      "soa                               141 non-null object\n",
      "all_16_74                         141 non-null float64\n",
      "part_time_16_74                   141 non-null float64\n",
      "full_time_16_74                   141 non-null float64\n",
      "self_employed_16_74               141 non-null float64\n",
      "unemployed_16_74                  141 non-null float64\n",
      "full_student_16_74                141 non-null float64\n",
      "retired_16_74                     141 non-null float64\n",
      "student_16_74                     141 non-null float64\n",
      "home_16_74                        141 non-null float64\n",
      "sick_or_disability_16_74          141 non-null float64\n",
      "other_16_74                       141 non-null float64\n",
      "voluntary_16_74                   141 non-null float64\n",
      "unemployed_16_24                  141 non-null float64\n",
      "umemployed_50_74                  141 non-null float64\n",
      "never_worked_16_74                141 non-null float64\n",
      "long_term_unemployed_16_74        141 non-null float64\n",
      "part_time_16_74_pct               141 non-null float64\n",
      "full_time_16_74_pct               141 non-null float64\n",
      "self_employed_16_74_pct           141 non-null float64\n",
      "unemployed_16_74_pct              141 non-null float64\n",
      "full_student_16_74_pct            141 non-null float64\n",
      "retired_16_74_pct                 141 non-null float64\n",
      "student_16_74_pct                 141 non-null float64\n",
      "home_16_74_pct                    141 non-null float64\n",
      "sick_or_disability_16_74_pct      141 non-null float64\n",
      "other_16_74_pct                   141 non-null float64\n",
      "voluntary_16_74_pct               141 non-null float64\n",
      "unemployed_16_24_pct              141 non-null float64\n",
      "umemployed_50_74_pct              141 non-null float64\n",
      "never_worked_16_74_pct            141 non-null float64\n",
      "long_term_unemployed_16_74_pct    141 non-null float64\n",
      "dtypes: float64(31), object(1)\n",
      "memory usage: 35.3+ KB\n",
      "None\n"
     ]
    }
   ],
   "source": [
    "print(starter.info())\n",
    "print(waiting.info())\n",
    "print(employment.info())"
   ]
  },
  {
   "cell_type": "code",
   "execution_count": 10,
   "metadata": {},
   "outputs": [
    {
     "data": {
      "text/plain": [
       "array(['hsc_trust'],\n",
       "      dtype='<U50')"
      ]
     },
     "execution_count": 10,
     "metadata": {},
     "output_type": "execute_result"
    }
   ],
   "source": [
    "np.intersect1d(np.asarray(list(waiting)), np.asarray(list(starter)))"
   ]
  },
  {
   "cell_type": "code",
   "execution_count": 13,
   "metadata": {},
   "outputs": [
    {
     "data": {
      "text/plain": [
       "False"
      ]
     },
     "execution_count": 13,
     "metadata": {},
     "output_type": "execute_result"
    }
   ],
   "source": [
    "'hsc_trust' in np.asarray(list(employment))"
   ]
  },
  {
   "cell_type": "code",
   "execution_count": null,
   "metadata": {
    "collapsed": true
   },
   "outputs": [],
   "source": []
  }
 ],
 "metadata": {
  "kernelspec": {
   "display_name": "Python 3",
   "language": "python",
   "name": "python3"
  },
  "language_info": {
   "codemirror_mode": {
    "name": "ipython",
    "version": 3
   },
   "file_extension": ".py",
   "mimetype": "text/x-python",
   "name": "python",
   "nbconvert_exporter": "python",
   "pygments_lexer": "ipython3",
   "version": "3.6.1"
  }
 },
 "nbformat": 4,
 "nbformat_minor": 2
}
